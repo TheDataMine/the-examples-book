{
 "cells": [
  {
   "cell_type": "markdown",
   "id": "78f5ba84",
   "metadata": {},
   "source": [
    "# 301 Project 01- Choosing a Model "
   ]
  },
  {
   "cell_type": "markdown",
   "id": "cad748a3",
   "metadata": {},
   "source": [
    "## Project Objectives\n",
    "\n",
    "Here we explore:\n",
    "\n",
    "- Flexibility vs. Interpretability\n",
    "- Classification vs. Regression\n",
    "- Prediction vs. Inference\n",
    "- Supervised vs. Unsupervised Learning\n",
    "- Non-parameterization with Splines"
   ]
  },
  {
   "cell_type": "markdown",
   "id": "f3838289",
   "metadata": {},
   "source": [
    "## Our Sources\n",
    "\n",
    "- https://the-examples-book.com/starter-guides/data-science/data-modeling/choosing-model/\n",
    "- https://www.statlearning.com/\n",
    " "
   ]
  },
  {
   "cell_type": "markdown",
   "id": "489396f0",
   "metadata": {},
   "source": [
    "## Flexibility vs. Interpretability\n",
    "\n",
    "### Question 1: Please contrast flexibility and interpretability in modeling techniques (1 point).\n",
    "\n"
   ]
  },
  {
   "cell_type": "code",
   "execution_count": null,
   "id": "a3b1086b",
   "metadata": {},
   "outputs": [],
   "source": [
    "# Your Answer Goes Here"
   ]
  },
  {
   "cell_type": "markdown",
   "id": "f4fcc01a",
   "metadata": {},
   "source": [
    "\n",
    "Flexible models, such as neural networks, can handle complex data but are often difficult to interpret, making them \"black boxes.\" Interpretable models, like linear regression, are simpler to understand but may not capture complex patterns effectively.\n",
    "\n",
    "### Question 2: Please using a code example of a flexible model and an interpretable model to show the different steps ,assume that the training data X_train and y_train are already prepared (1 point)"
   ]
  },
  {
   "cell_type": "code",
   "execution_count": null,
   "id": "70d5c6c3",
   "metadata": {},
   "outputs": [],
   "source": [
    "# Your Answer Goes Here"
   ]
  },
  {
   "cell_type": "code",
   "execution_count": null,
   "id": "6065e501",
   "metadata": {},
   "outputs": [],
   "source": [
    "# Answer\n",
    "\n",
    "# Flexible Model: Neural Network using Keras\n",
    "from keras.models import Sequential\n",
    "from keras.layers import Dense\n",
    "\n",
    "model = Sequential()\n",
    "model.add(Dense(32, input_dim=10, activation='relu'))\n",
    "model.add(Dense(1, activation='sigmoid'))\n",
    "\n",
    "model.compile(loss='binary_crossentropy', optimizer='adam', metrics=['accuracy'])\n",
    "model.fit(X_train, y_train, epochs=10, batch_size=10)\n",
    "\n",
    "# Interpretable Model: Decision Tree using scikit-learn\n",
    "from sklearn.tree import DecisionTreeClassifier\n",
    "\n",
    "clf = DecisionTreeClassifier()\n",
    "clf.fit(X_train, y_train)\n",
    "\n",
    " "
   ]
  },
  {
   "cell_type": "markdown",
   "id": "91b2a6e5",
   "metadata": {},
   "source": [
    "## Classification vs. Regression\n",
    "\n",
    "### Question 3: Please contrast classification problems from regression problems (1 point)"
   ]
  },
  {
   "cell_type": "code",
   "execution_count": null,
   "id": "d0ffcd69",
   "metadata": {},
   "outputs": [],
   "source": [
    "# Your Answer Goes Here\n",
    "    "
   ]
  },
  {
   "cell_type": "code",
   "execution_count": null,
   "id": "49e232f0",
   "metadata": {},
   "outputs": [],
   "source": [
    "Classification problems predict categorical outcomes\n",
    "regression problems predict continuous outcomes."
   ]
  },
  {
   "cell_type": "markdown",
   "id": "d86b1ffc",
   "metadata": {},
   "source": [
    "### Question 4: Please using a code example to show steps to create a classification model and a regression model, assume that the training data X_train and y_train are already prepared (1 point)."
   ]
  },
  {
   "cell_type": "code",
   "execution_count": null,
   "id": "4f7df7f0",
   "metadata": {},
   "outputs": [],
   "source": [
    "# Your Answer Goes Here"
   ]
  },
  {
   "cell_type": "code",
   "execution_count": null,
   "id": "18d55588",
   "metadata": {},
   "outputs": [],
   "source": [
    "# Classification: Logistic Regression\n",
    "from sklearn.linear_model import LogisticRegression\n",
    "\n",
    "clf = LogisticRegression()\n",
    "clf.fit(X_train, y_train)\n",
    "\n",
    "# Regression: Linear Regression\n",
    "from sklearn.linear_model import LinearRegression\n",
    "\n",
    "reg = LinearRegression()\n",
    "reg.fit(X_train, y_train)"
   ]
  },
  {
   "cell_type": "markdown",
   "id": "1ae067ef",
   "metadata": {},
   "source": [
    "## Prediction vs. Inference"
   ]
  },
  {
   "cell_type": "markdown",
   "id": "ab43bb1d",
   "metadata": {},
   "source": [
    "### Question 5: Please explain the scenarios to use prediction versus inference (1 point)"
   ]
  },
  {
   "cell_type": "code",
   "execution_count": null,
   "id": "f239e5d7",
   "metadata": {},
   "outputs": [],
   "source": [
    "# Your Answer Goes Here"
   ]
  },
  {
   "cell_type": "markdown",
   "id": "0dbeb67a",
   "metadata": {},
   "source": [
    "Predict if for accurate predictions\n",
    "Inference if for understanding the relationships"
   ]
  },
  {
   "cell_type": "markdown",
   "id": "40c237b5",
   "metadata": {},
   "source": [
    "### Question 6: Please use a code example to show just the steps to create a model for prediction and one for inference, assume that the training data X_train and y_train are already prepared( 1 point)."
   ]
  },
  {
   "cell_type": "code",
   "execution_count": null,
   "id": "d06db391",
   "metadata": {},
   "outputs": [],
   "source": [
    "# Your Answer Goes Here"
   ]
  },
  {
   "cell_type": "code",
   "execution_count": null,
   "id": "7d1f0378",
   "metadata": {},
   "outputs": [],
   "source": [
    "# Prediction: Random Forest\n",
    "from sklearn.ensemble import RandomForestClassifier\n",
    "\n",
    "clf = RandomForestClassifier()\n",
    "clf.fit(X_train, y_train)\n",
    "\n",
    "# Inference: Ordinary Least Squares (OLS) Regression using statsmodels\n",
    "import statsmodels.api as sm\n",
    "\n",
    "X_train = sm.add_constant(X_train)\n",
    "ols = sm.OLS(y_train, X_train)\n",
    "results = ols.fit()\n",
    "\n",
    "print(results.summary())"
   ]
  },
  {
   "cell_type": "markdown",
   "id": "82b6805c",
   "metadata": {},
   "source": [
    "## Supervised vs. Unsupervised Learning"
   ]
  },
  {
   "cell_type": "markdown",
   "id": "6918b150",
   "metadata": {},
   "source": [
    "### Question 7: Explain the difference between supervised and unsupervised learning (1 point)."
   ]
  },
  {
   "cell_type": "code",
   "execution_count": null,
   "id": "1886f502",
   "metadata": {},
   "outputs": [],
   "source": [
    "# Your Answer Goes Here:"
   ]
  },
  {
   "cell_type": "markdown",
   "id": "77e083b3",
   "metadata": {},
   "source": [
    "Supervised learning uses labeled data to train models\n",
    "Unsupervised learning works with unlabeled data to discover patterns or structures."
   ]
  },
  {
   "cell_type": "markdown",
   "id": "c3e461fb",
   "metadata": {},
   "source": [
    "### Question 8: Provide an example of a supervised learning model and an unsupervised learning model, assume that the training data X_train and y_train are already prepared (1 point)."
   ]
  },
  {
   "cell_type": "code",
   "execution_count": null,
   "id": "b5953554",
   "metadata": {},
   "outputs": [],
   "source": [
    "# Your Answer Goes Here:"
   ]
  },
  {
   "cell_type": "code",
   "execution_count": null,
   "id": "6a9e4093",
   "metadata": {},
   "outputs": [],
   "source": [
    "# Supervised Learning: Support Vector Machine (SVM)\n",
    "from sklearn.svm import SVC\n",
    "\n",
    "clf = SVC()\n",
    "clf.fit(X_train, y_train)\n",
    "\n",
    "# Unsupervised Learning: K-Means Clustering\n",
    "from sklearn.cluster import KMeans\n",
    "\n",
    "kmeans = KMeans(n_clusters=3)\n",
    "kmeans.fit(X_train)\n",
    "\n",
    "labels = kmeans.predict(X_train)\n",
    " "
   ]
  },
  {
   "cell_type": "markdown",
   "id": "a9bb8022",
   "metadata": {},
   "source": [
    "## Non-parameterization with Splines"
   ]
  },
  {
   "cell_type": "markdown",
   "id": "a9fc2875",
   "metadata": {},
   "source": [
    "### Question 9: Please explain what is splines(1 point)"
   ]
  },
  {
   "cell_type": "code",
   "execution_count": null,
   "id": "d0ec1ea5",
   "metadata": {},
   "outputs": [],
   "source": [
    "# Your Answer Goes Here:"
   ]
  },
  {
   "cell_type": "markdown",
   "id": "12e6b94c",
   "metadata": {},
   "source": [
    "Splines definition:  "
   ]
  },
  {
   "cell_type": "markdown",
   "id": "dd287a4b",
   "metadata": {},
   "source": [
    "### Question 10: Please use a code example to show the steps to create a spline (1 point)"
   ]
  },
  {
   "cell_type": "code",
   "execution_count": null,
   "id": "9cfa35f2",
   "metadata": {},
   "outputs": [],
   "source": [
    "# Your Answer Goes Here:"
   ]
  },
  {
   "cell_type": "code",
   "execution_count": null,
   "id": "5431c062",
   "metadata": {},
   "outputs": [],
   "source": [
    "import numpy as np\n",
    "import matplotlib.pyplot as plt\n",
    "from scipy.interpolate import UnivariateSpline\n",
    "\n",
    "# Create Sample data points\n",
    "x = # Your Code here\n",
    "y = # Your Code here\n",
    "\n",
    "# Create a spline\n",
    "spline = # Your Code here\n",
    " \n",
    " "
   ]
  }
 ],
 "metadata": {
  "kernelspec": {
   "display_name": "Python 3 (ipykernel)",
   "language": "python",
   "name": "python3"
  },
  "language_info": {
   "codemirror_mode": {
    "name": "ipython",
    "version": 3
   },
   "file_extension": ".py",
   "mimetype": "text/x-python",
   "name": "python",
   "nbconvert_exporter": "python",
   "pygments_lexer": "ipython3",
   "version": "3.11.0"
  }
 },
 "nbformat": 4,
 "nbformat_minor": 5
}

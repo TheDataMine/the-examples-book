{
 "cells": [
  {
   "cell_type": "markdown",
   "id": "432fbc61-b43a-4d3a-b1a8-e7cf3a3f50a4",
   "metadata": {
    "nbgrader": {
     "grade": false,
     "grade_id": "cell-04647ed3078849a3",
     "locked": true,
     "schema_version": 3,
     "solution": false,
     "task": false
    }
   },
   "source": [
    "# Introduction to Artificial Intelligence and Machine Learning (AI/ML)"
   ]
  },
  {
   "cell_type": "markdown",
   "id": "1a37d58f-522a-4ed5-b5ca-bf7daec5a816",
   "metadata": {
    "nbgrader": {
     "grade": false,
     "grade_id": "cell-55a4349255e68406",
     "locked": true,
     "schema_version": 3,
     "solution": false,
     "task": false
    }
   },
   "source": [
    "## Module Objectives\n",
    "- Define AI/ML and the difference between them\n",
    "- Compare ML vs. expert based systems\n",
    "- Explore ways in which AI/ML gets used\n",
    "- Do the \"Hello World\" of neural networks as an introduction to AI/ML"
   ]
  },
  {
   "cell_type": "markdown",
   "id": "df30f340-3f62-4698-9a2e-bb60f813588f",
   "metadata": {
    "nbgrader": {
     "grade": false,
     "grade_id": "cell-f608626911043cd8",
     "locked": true,
     "schema_version": 3,
     "solution": false,
     "task": false
    }
   },
   "source": [
    "## AI and ML: Definitions and Differences (1 point)"
   ]
  },
  {
   "cell_type": "markdown",
   "id": "41f0e227-c303-4e9b-8ee4-588beffacd2f",
   "metadata": {
    "nbgrader": {
     "grade": false,
     "grade_id": "cell-c528559e2f8a47c4",
     "locked": true,
     "schema_version": 3,
     "solution": false,
     "task": false
    }
   },
   "source": [
    "Read from both of these links on the difference (or lack thereof) between AI and ML:\n",
    "\n",
    "- <a href=https://web.archive.org/web/20231129013703/https://www.ibm.com/topics/artificial-intelligence>What is Artificial Intelligence? (IBM)<a>\n",
    "- <a href=https://web.archive.org/web/20231127132627/https://www.ibm.com/topics/machine-learning>What is Machine Learning? (IBM)<a>\n",
    "\n",
    "**In a few sentences, describe the difference (or lack thereof) between machine learning and artificial intelligence in the cell below.** Citations are not required."
   ]
  },
  {
   "cell_type": "markdown",
   "id": "215d421e-4d39-4e8f-a914-5aa1a24dcc1c",
   "metadata": {
    "nbgrader": {
     "grade": true,
     "grade_id": "cell-163511a9d3dcbe0f",
     "locked": false,
     "points": 1,
     "schema_version": 3,
     "solution": true,
     "task": false
    }
   },
   "source": []
  },
  {
   "cell_type": "markdown",
   "id": "8cc40505-fe0a-40d4-8161-59f6ede7b5c3",
   "metadata": {
    "nbgrader": {
     "grade": false,
     "grade_id": "cell-3a54407438cde880",
     "locked": true,
     "schema_version": 3,
     "solution": false,
     "task": false
    }
   },
   "source": [
    "## Expert Based Systems (1 point)"
   ]
  },
  {
   "cell_type": "markdown",
   "id": "e7a721bc-92bb-4b60-b7db-9c3dcba712d3",
   "metadata": {
    "nbgrader": {
     "grade": false,
     "grade_id": "cell-af281b4297b9e8d2",
     "locked": true,
     "schema_version": 3,
     "solution": false,
     "task": false
    }
   },
   "source": [
    "Read from <a href=https://web.archive.org/web/20140505045226/http://stpk.cs.rtu.lv/sites/all/files/stpk/materiali/MI/Artificial%20Intelligence%20A%20Modern%20Approach.pdf>this paper from Russell & Norvig (1995)</a> on what an **expert system** is. Then describe the difference between an expert system and machine learning. The relevant section is titled *Knowledge-based systems: The key to power? (1969-1979)* and starts at page 22 (you should only need to read this one section).\n",
    "\n",
    "**In a few sentences, describe the difference between machine learning and expert systems in the cell below**. Citations are not required."
   ]
  },
  {
   "cell_type": "markdown",
   "id": "8d3bf203-393b-4122-aedb-1236864ed657",
   "metadata": {
    "nbgrader": {
     "grade": true,
     "grade_id": "cell-db20e67f4d5c8f9d",
     "locked": false,
     "points": 1,
     "schema_version": 3,
     "solution": true,
     "task": false
    }
   },
   "source": []
  },
  {
   "cell_type": "markdown",
   "id": "6f74378d-3198-45cc-82ad-263cfb6d53b9",
   "metadata": {
    "nbgrader": {
     "grade": false,
     "grade_id": "cell-c4da309651fb519b",
     "locked": true,
     "schema_version": 3,
     "solution": false,
     "task": false
    }
   },
   "source": [
    "## Use Cases For AI/ML (1 point)"
   ]
  },
  {
   "cell_type": "markdown",
   "id": "048a1ce3-04c5-4728-8cb2-51e2d1632103",
   "metadata": {
    "nbgrader": {
     "grade": false,
     "grade_id": "cell-ad70b7d703774a53",
     "locked": true,
     "schema_version": 3,
     "solution": false,
     "task": false
    }
   },
   "source": [
    "Go back to the link <a href=https://web.archive.org/web/20231127132627/https://www.ibm.com/topics/machine-learning>What is Machine Learning? (IBM)<a> and scroll down to the \"Real-world machine learning use cases\" section.\n",
    "\n",
    "**In 1-3 sentences, explain which one of the given use cases interest you the most and why**. Citations are not required."
   ]
  },
  {
   "cell_type": "markdown",
   "id": "5c7ac2e5-9f04-4886-a16a-570331163cd6",
   "metadata": {
    "nbgrader": {
     "grade": true,
     "grade_id": "cell-78f3f8e29551d5fb",
     "locked": false,
     "points": 1,
     "schema_version": 3,
     "solution": true,
     "task": false
    }
   },
   "source": []
  },
  {
   "cell_type": "markdown",
   "id": "1a5c268a-62c2-495b-bcea-33cad95f478c",
   "metadata": {
    "nbgrader": {
     "grade": false,
     "grade_id": "cell-7f8c7301f61021a7",
     "locked": true,
     "schema_version": 3,
     "solution": false,
     "task": false
    }
   },
   "source": [
    "## A Machine Learning Algorithm: $k$-nearest neighbors (knn)"
   ]
  },
  {
   "cell_type": "markdown",
   "id": "003fa6d4-cf30-43ed-a9b0-a05c9900ceb7",
   "metadata": {
    "nbgrader": {
     "grade": false,
     "grade_id": "cell-5722638f350edea4",
     "locked": true,
     "schema_version": 3,
     "solution": false,
     "task": false
    },
    "tags": []
   },
   "source": [
    "Enough talk- let's create a machine learning algorithm!\n",
    "\n",
    "Below we implement the $k$-nearest neighbors algorithm using Scikit-Learn, a machine learning package. \n",
    "\n",
    "There might be a lot of terms here that you are unfamiliar with, like conditional distribution, preprocessing, EDA, etc- that's ok! For this introductory homework, we don't expect you to know all these terms. **The entire algorithm is mostly implemented for you; all you need to do is edit a few lines of code to finish it. There will be clear instructions at each point where you need to edit the code to get it to work.**\n",
    "\n",
    "If you are interested in learning more about $k$-nearest neighbors, check out chapter 2.2.3 of ISL: https://www.statlearning.com/ or visit the <a href=https://the-examples-book.com/starter-guides/data-science/data-analysis/k-nearest-neighbors>Starter Guide page</a>."
   ]
  },
  {
   "cell_type": "markdown",
   "id": "fa3cce18-58d3-4de9-8dca-9349f0423448",
   "metadata": {
    "nbgrader": {
     "grade": false,
     "grade_id": "cell-c5196d65dd76ec96",
     "locked": true,
     "schema_version": 3,
     "solution": false,
     "task": false
    }
   },
   "source": [
    "### Package Imports"
   ]
  },
  {
   "cell_type": "code",
   "execution_count": 1,
   "id": "e02dbf27-865c-4b66-ba20-544ebe3aac04",
   "metadata": {
    "nbgrader": {
     "grade": false,
     "grade_id": "cell-eb2dd79430b490af",
     "locked": true,
     "schema_version": 3,
     "solution": false,
     "task": false
    }
   },
   "outputs": [],
   "source": [
    "import pandas as pd\n",
    "import openpyxl\n",
    "import numpy as np\n",
    "from sklearn.neighbors import KNeighborsClassifier\n",
    "from sklearn import metrics\n",
    "import seaborn as sns\n",
    "import matplotlib.pyplot as plt\n",
    "import warnings\n",
    "import math\n",
    "from sklearn.model_selection import train_test_split\n",
    "\n",
    "warnings.filterwarnings('ignore') #ignore warnings that occur"
   ]
  },
  {
   "cell_type": "markdown",
   "id": "60d185d8-7c6b-4b3a-bbef-32ce2aeb8782",
   "metadata": {
    "nbgrader": {
     "grade": false,
     "grade_id": "cell-6bd44b61df237dc0",
     "locked": true,
     "schema_version": 3,
     "solution": false,
     "task": false
    }
   },
   "source": [
    "### A Brief Technical Overview"
   ]
  },
  {
   "cell_type": "markdown",
   "id": "8ee235ab-8f84-4de1-a588-145edddc856c",
   "metadata": {
    "nbgrader": {
     "grade": false,
     "grade_id": "cell-00d565aad973ef7b",
     "locked": true,
     "schema_version": 3,
     "solution": false,
     "task": false
    }
   },
   "source": [
    "While knn can be used for either regression or classification, we are going to demonstrate its uses for classification. \n",
    "\n",
    "One of the primary challenges of classification is that we don't know the conditional distribution of $Y$ given $X$ for our dataset. To deal with this, we attempt to *estimate* the conditional distribution of $Y$ given $X$, then classify any given individual observation using that estimated probability of what it *should* be. **knn can be used to estimate what the conditional distribution should be.**"
   ]
  },
  {
   "cell_type": "markdown",
   "id": "fe0c89f4-1ba5-479d-a78c-a6a4d5cf0e1b",
   "metadata": {
    "nbgrader": {
     "grade": false,
     "grade_id": "cell-41afea32181559d4",
     "locked": true,
     "schema_version": 3,
     "solution": false,
     "task": false
    }
   },
   "source": [
    "### Deep Dive Into The Algorithm"
   ]
  },
  {
   "cell_type": "markdown",
   "id": "11b0ffb5-21b1-4fef-bb90-7196c8423b4f",
   "metadata": {
    "nbgrader": {
     "grade": false,
     "grade_id": "cell-75dab6eb8cb51456",
     "locked": true,
     "schema_version": 3,
     "solution": false,
     "task": false
    }
   },
   "source": [
    "Given some positive integer $k$ and our data observation $x_0$, knn identifies the $k$ nearest points to $x_0$, represented by $n_0$.\n",
    "\n",
    "Then, we estimate the conditional probability of class $j$ as the fraction of points in $n_0$ whose response values equal $j$:\n",
    "\n",
    "$$ Pr(Y=j|X=x_0)=\\frac{1}{k}\\sum_{i\\in n_0}I(y_i=j) $$\n",
    "\n",
    "Finally, knn classifies the test observation we started with ($x_0$) to the class ($j$) with the largest probability from the above equation."
   ]
  },
  {
   "cell_type": "markdown",
   "id": "8d08d2f5-2480-4565-bed8-dd4082576203",
   "metadata": {
    "nbgrader": {
     "grade": false,
     "grade_id": "cell-bf4e84e7092eae82",
     "locked": true,
     "schema_version": 3,
     "solution": false,
     "task": false
    }
   },
   "source": [
    "### A Visual Example"
   ]
  },
  {
   "cell_type": "markdown",
   "id": "6f6cb767-1161-4d82-8f09-6b01474c7123",
   "metadata": {
    "nbgrader": {
     "grade": false,
     "grade_id": "cell-a059ea37d466f8d8",
     "locked": true,
     "schema_version": 3,
     "solution": false,
     "task": false
    }
   },
   "source": [
    "In the example below, we simulate 3 different $k$ values: 3, 5, and 11. We have 11 different data points plus our test point, and 2 labels (magenta and yellow). \n",
    "\n",
    "When $k$=3, the black dot (our $x_0$) would be classified as yellow, because the 3 nearest points are 2 yellow and 1 magenta; so the chance of it being yellow is 2/3, and magenta is 1/3. When $k$=5, our black dot would be classified as magenta, because magenta is higher than yellow with 3/5, vs 2/5. Finally, when we include all the points with $k$=11, our $x_0$ would be classified as yellow, because there is a 7/11 chance of yellow and 4/11 chance of magenta.\n",
    "\n",
    "We could theoretically take any integer $k$ values from 2 to 11. In practice, when $k$ is the same as the max amount of points, you are really just taking the average, and if you were going to do that in the first place you wouldn't need k-nearest neighbors to do it. *Often, detecting the right value of $k$ can be a challenge*."
   ]
  },
  {
   "cell_type": "markdown",
   "id": "7562b3f4-b72e-47d2-813b-1a242e9a4980",
   "metadata": {
    "nbgrader": {
     "grade": false,
     "grade_id": "cell-9d4fec1f2a7556be",
     "locked": true,
     "schema_version": 3,
     "solution": false,
     "task": false
    }
   },
   "source": [
    "<img src=\"images/knn.gif\" alt=\"knn gif\" />"
   ]
  },
  {
   "cell_type": "markdown",
   "id": "19e43dde-9035-4813-9840-cb1478eb3e37",
   "metadata": {
    "nbgrader": {
     "grade": false,
     "grade_id": "cell-32b338f2141c0482",
     "locked": true,
     "schema_version": 3,
     "solution": false,
     "task": false
    }
   },
   "source": [
    "### Our Data"
   ]
  },
  {
   "cell_type": "markdown",
   "id": "70092a1c-3793-4b4b-bb64-2c042f0f987a",
   "metadata": {
    "nbgrader": {
     "grade": false,
     "grade_id": "cell-fe1ce820e91df78f",
     "locked": true,
     "schema_version": 3,
     "solution": false,
     "task": false
    }
   },
   "source": [
    "We are working with an airline customer satisfaction dataset. The data comes from Kaggle: https://www.kaggle.com/datasets/johndddddd/customer-satisfaction\n",
    "\n",
    "*Variables*:\n",
    "\n",
    "Satisfaction:Airline satisfaction level(Satisfaction, neutral or dissatisfaction)\"\n",
    "\n",
    "Age:The actual age of the passengers\n",
    "\n",
    "Gender:Gender of the passengers (Female, Male)\n",
    "\n",
    "\"Type of Travel:Purpose of the flight of the passengers (Personal Travel, Business Travel)\"\n",
    "\n",
    "\"Class:Travel class in the plane of the passengers (Business, Eco, Eco Plus)\"\n",
    "\n",
    "Customer Type:The customer type (Loyal customer, disloyal customer)\n",
    "\n",
    "Flight distance:The flight distance of this journey\n",
    "\n",
    "\"Inflight wifi service:Satisfaction level of the inflight wifi service (0:Not Applicable;1-5)\"\n",
    "\n",
    "Ease of Online booking:Satisfaction level of online booking\n",
    "\n",
    "Inflight service:Satisfaction level of inflight service\n",
    "\n",
    "Online boarding:Satisfaction level of online boarding\n",
    "\n",
    "Inflight entertainment:Satisfaction level of inflight entertainment\n",
    "\n",
    "Food and drink:Satisfaction level of Food and drink\n",
    "\n",
    "Seat comfort:Satisfaction level of Seat comfort\n",
    "\n",
    "On-board service:Satisfaction level of On-board service\n",
    "\n",
    "Leg room service:Satisfaction level of Leg room service\n",
    "\n",
    "Departure/Arrival time convenient:Satisfaction level of Departure/Arrival time convenient\n",
    "\n",
    "Baggage handling:Satisfaction level of baggage handling\n",
    "\n",
    "Gate location:Satisfaction level of Gate location\n",
    "\n",
    "Cleanliness:Satisfaction level of Cleanliness\n",
    "\n",
    "Check-in service:Satisfaction level of Check-in service\n",
    "\n",
    "Departure Delay in Minutes:Minutes delayed when departure\n",
    "\n",
    "Arrival Delay in Minutes:Minutes delayed when Arrival\n",
    "\n",
    "Flight cancelled:Whether the Flight cancelled or not (Yes, No)\n",
    "\n",
    "Flight time in minutes:Minutes of Flight takes"
   ]
  },
  {
   "cell_type": "markdown",
   "id": "6c7ae484-19b3-4be8-b17a-d14f63f39e09",
   "metadata": {
    "nbgrader": {
     "grade": false,
     "grade_id": "cell-a14c1acbe8db8a13",
     "locked": true,
     "schema_version": 3,
     "solution": false,
     "task": false
    }
   },
   "source": [
    "### Our Goal"
   ]
  },
  {
   "cell_type": "markdown",
   "id": "0509c265-9638-4e77-8fc4-6fa98fdc334c",
   "metadata": {
    "nbgrader": {
     "grade": false,
     "grade_id": "cell-2f8a4a4290806113",
     "locked": true,
     "schema_version": 3,
     "solution": false,
     "task": false
    }
   },
   "source": [
    "Classify observations by their level of satisfaction using knn. We want to know what variables really matter to customer satisfaction. For instance, is flight delay time the biggest indicator of overall customer satisfaction?"
   ]
  },
  {
   "cell_type": "markdown",
   "id": "c4eac62a-856f-4c70-a233-922f3aac1a9e",
   "metadata": {
    "nbgrader": {
     "grade": false,
     "grade_id": "cell-bf24744cdf603c5c",
     "locked": true,
     "schema_version": 3,
     "solution": false,
     "task": false
    }
   },
   "source": [
    "### Code"
   ]
  },
  {
   "cell_type": "markdown",
   "id": "cfd53e5b-5313-4a1a-80a4-67724d9f94fc",
   "metadata": {
    "nbgrader": {
     "grade": false,
     "grade_id": "cell-a70e6edf4b92767c",
     "locked": true,
     "schema_version": 3,
     "solution": false,
     "task": false
    }
   },
   "source": [
    "### EDA"
   ]
  },
  {
   "cell_type": "markdown",
   "id": "a89595fc-ff0a-490a-a91a-faefbe01b77f",
   "metadata": {
    "nbgrader": {
     "grade": false,
     "grade_id": "cell-4154b6f5d1b6fe5f",
     "locked": true,
     "schema_version": 3,
     "solution": false,
     "task": false
    }
   },
   "source": [
    "Below we take a quick look at the data. We drop rows with NA once we load it in."
   ]
  },
  {
   "cell_type": "code",
   "execution_count": 2,
   "id": "615c971a-9515-4b46-a08c-8ca3a771e7cb",
   "metadata": {
    "nbgrader": {
     "grade": false,
     "grade_id": "cell-9c072fd8c59dcfcb",
     "locked": true,
     "schema_version": 3,
     "solution": false,
     "task": false
    }
   },
   "outputs": [],
   "source": [
    "df = pd.read_excel(\"data.xlsx\")\n",
    "df = df.dropna()"
   ]
  },
  {
   "cell_type": "code",
   "execution_count": 3,
   "id": "c1a82c10-3250-4855-b43f-26917bfb719f",
   "metadata": {
    "nbgrader": {
     "grade": false,
     "grade_id": "cell-76f5899a59561f59",
     "locked": true,
     "schema_version": 3,
     "solution": false,
     "task": false
    }
   },
   "outputs": [
    {
     "data": {
      "text/html": [
       "<div>\n",
       "<style scoped>\n",
       "    .dataframe tbody tr th:only-of-type {\n",
       "        vertical-align: middle;\n",
       "    }\n",
       "\n",
       "    .dataframe tbody tr th {\n",
       "        vertical-align: top;\n",
       "    }\n",
       "\n",
       "    .dataframe thead th {\n",
       "        text-align: right;\n",
       "    }\n",
       "</style>\n",
       "<table border=\"1\" class=\"dataframe\">\n",
       "  <thead>\n",
       "    <tr style=\"text-align: right;\">\n",
       "      <th></th>\n",
       "      <th>id</th>\n",
       "      <th>satisfaction_v2</th>\n",
       "      <th>Gender</th>\n",
       "      <th>Customer Type</th>\n",
       "      <th>Age</th>\n",
       "      <th>Type of Travel</th>\n",
       "      <th>Class</th>\n",
       "      <th>Flight Distance</th>\n",
       "      <th>Seat comfort</th>\n",
       "      <th>Departure/Arrival time convenient</th>\n",
       "      <th>...</th>\n",
       "      <th>Online support</th>\n",
       "      <th>Ease of Online booking</th>\n",
       "      <th>On-board service</th>\n",
       "      <th>Leg room service</th>\n",
       "      <th>Baggage handling</th>\n",
       "      <th>Checkin service</th>\n",
       "      <th>Cleanliness</th>\n",
       "      <th>Online boarding</th>\n",
       "      <th>Departure Delay in Minutes</th>\n",
       "      <th>Arrival Delay in Minutes</th>\n",
       "    </tr>\n",
       "  </thead>\n",
       "  <tbody>\n",
       "    <tr>\n",
       "      <th>0</th>\n",
       "      <td>11112</td>\n",
       "      <td>satisfied</td>\n",
       "      <td>Female</td>\n",
       "      <td>Loyal Customer</td>\n",
       "      <td>65</td>\n",
       "      <td>Personal Travel</td>\n",
       "      <td>Eco</td>\n",
       "      <td>265</td>\n",
       "      <td>0</td>\n",
       "      <td>0</td>\n",
       "      <td>...</td>\n",
       "      <td>2</td>\n",
       "      <td>3</td>\n",
       "      <td>3</td>\n",
       "      <td>0</td>\n",
       "      <td>3</td>\n",
       "      <td>5</td>\n",
       "      <td>3</td>\n",
       "      <td>2</td>\n",
       "      <td>0</td>\n",
       "      <td>0.0</td>\n",
       "    </tr>\n",
       "    <tr>\n",
       "      <th>1</th>\n",
       "      <td>110278</td>\n",
       "      <td>satisfied</td>\n",
       "      <td>Male</td>\n",
       "      <td>Loyal Customer</td>\n",
       "      <td>47</td>\n",
       "      <td>Personal Travel</td>\n",
       "      <td>Business</td>\n",
       "      <td>2464</td>\n",
       "      <td>0</td>\n",
       "      <td>0</td>\n",
       "      <td>...</td>\n",
       "      <td>2</td>\n",
       "      <td>3</td>\n",
       "      <td>4</td>\n",
       "      <td>4</td>\n",
       "      <td>4</td>\n",
       "      <td>2</td>\n",
       "      <td>3</td>\n",
       "      <td>2</td>\n",
       "      <td>310</td>\n",
       "      <td>305.0</td>\n",
       "    </tr>\n",
       "    <tr>\n",
       "      <th>2</th>\n",
       "      <td>103199</td>\n",
       "      <td>satisfied</td>\n",
       "      <td>Female</td>\n",
       "      <td>Loyal Customer</td>\n",
       "      <td>15</td>\n",
       "      <td>Personal Travel</td>\n",
       "      <td>Eco</td>\n",
       "      <td>2138</td>\n",
       "      <td>0</td>\n",
       "      <td>0</td>\n",
       "      <td>...</td>\n",
       "      <td>2</td>\n",
       "      <td>2</td>\n",
       "      <td>3</td>\n",
       "      <td>3</td>\n",
       "      <td>4</td>\n",
       "      <td>4</td>\n",
       "      <td>4</td>\n",
       "      <td>2</td>\n",
       "      <td>0</td>\n",
       "      <td>0.0</td>\n",
       "    </tr>\n",
       "    <tr>\n",
       "      <th>3</th>\n",
       "      <td>47462</td>\n",
       "      <td>satisfied</td>\n",
       "      <td>Female</td>\n",
       "      <td>Loyal Customer</td>\n",
       "      <td>60</td>\n",
       "      <td>Personal Travel</td>\n",
       "      <td>Eco</td>\n",
       "      <td>623</td>\n",
       "      <td>0</td>\n",
       "      <td>0</td>\n",
       "      <td>...</td>\n",
       "      <td>3</td>\n",
       "      <td>1</td>\n",
       "      <td>1</td>\n",
       "      <td>0</td>\n",
       "      <td>1</td>\n",
       "      <td>4</td>\n",
       "      <td>1</td>\n",
       "      <td>3</td>\n",
       "      <td>0</td>\n",
       "      <td>0.0</td>\n",
       "    </tr>\n",
       "    <tr>\n",
       "      <th>4</th>\n",
       "      <td>120011</td>\n",
       "      <td>satisfied</td>\n",
       "      <td>Female</td>\n",
       "      <td>Loyal Customer</td>\n",
       "      <td>70</td>\n",
       "      <td>Personal Travel</td>\n",
       "      <td>Eco</td>\n",
       "      <td>354</td>\n",
       "      <td>0</td>\n",
       "      <td>0</td>\n",
       "      <td>...</td>\n",
       "      <td>4</td>\n",
       "      <td>2</td>\n",
       "      <td>2</td>\n",
       "      <td>0</td>\n",
       "      <td>2</td>\n",
       "      <td>4</td>\n",
       "      <td>2</td>\n",
       "      <td>5</td>\n",
       "      <td>0</td>\n",
       "      <td>0.0</td>\n",
       "    </tr>\n",
       "  </tbody>\n",
       "</table>\n",
       "<p>5 rows × 24 columns</p>\n",
       "</div>"
      ],
      "text/plain": [
       "       id satisfaction_v2  Gender   Customer Type  Age   Type of Travel  \\\n",
       "0   11112       satisfied  Female  Loyal Customer   65  Personal Travel   \n",
       "1  110278       satisfied    Male  Loyal Customer   47  Personal Travel   \n",
       "2  103199       satisfied  Female  Loyal Customer   15  Personal Travel   \n",
       "3   47462       satisfied  Female  Loyal Customer   60  Personal Travel   \n",
       "4  120011       satisfied  Female  Loyal Customer   70  Personal Travel   \n",
       "\n",
       "      Class  Flight Distance  Seat comfort  Departure/Arrival time convenient  \\\n",
       "0       Eco              265             0                                  0   \n",
       "1  Business             2464             0                                  0   \n",
       "2       Eco             2138             0                                  0   \n",
       "3       Eco              623             0                                  0   \n",
       "4       Eco              354             0                                  0   \n",
       "\n",
       "   ...  Online support  Ease of Online booking  On-board service  \\\n",
       "0  ...               2                       3                 3   \n",
       "1  ...               2                       3                 4   \n",
       "2  ...               2                       2                 3   \n",
       "3  ...               3                       1                 1   \n",
       "4  ...               4                       2                 2   \n",
       "\n",
       "   Leg room service  Baggage handling  Checkin service  Cleanliness  \\\n",
       "0                 0                 3                5            3   \n",
       "1                 4                 4                2            3   \n",
       "2                 3                 4                4            4   \n",
       "3                 0                 1                4            1   \n",
       "4                 0                 2                4            2   \n",
       "\n",
       "   Online boarding  Departure Delay in Minutes  Arrival Delay in Minutes  \n",
       "0                2                           0                       0.0  \n",
       "1                2                         310                     305.0  \n",
       "2                2                           0                       0.0  \n",
       "3                3                           0                       0.0  \n",
       "4                5                           0                       0.0  \n",
       "\n",
       "[5 rows x 24 columns]"
      ]
     },
     "execution_count": 3,
     "metadata": {},
     "output_type": "execute_result"
    }
   ],
   "source": [
    "df.head()"
   ]
  },
  {
   "cell_type": "code",
   "execution_count": 4,
   "id": "182341e5-2f29-4dee-a989-993f020704da",
   "metadata": {
    "nbgrader": {
     "grade": false,
     "grade_id": "cell-979a457ae4e79e94",
     "locked": true,
     "schema_version": 3,
     "solution": false,
     "task": false
    }
   },
   "outputs": [
    {
     "name": "stdout",
     "output_type": "stream",
     "text": [
      "<class 'pandas.core.frame.DataFrame'>\n",
      "Index: 129487 entries, 0 to 129879\n",
      "Data columns (total 24 columns):\n",
      " #   Column                             Non-Null Count   Dtype  \n",
      "---  ------                             --------------   -----  \n",
      " 0   id                                 129487 non-null  int64  \n",
      " 1   satisfaction_v2                    129487 non-null  object \n",
      " 2   Gender                             129487 non-null  object \n",
      " 3   Customer Type                      129487 non-null  object \n",
      " 4   Age                                129487 non-null  int64  \n",
      " 5   Type of Travel                     129487 non-null  object \n",
      " 6   Class                              129487 non-null  object \n",
      " 7   Flight Distance                    129487 non-null  int64  \n",
      " 8   Seat comfort                       129487 non-null  int64  \n",
      " 9   Departure/Arrival time convenient  129487 non-null  int64  \n",
      " 10  Food and drink                     129487 non-null  int64  \n",
      " 11  Gate location                      129487 non-null  int64  \n",
      " 12  Inflight wifi service              129487 non-null  int64  \n",
      " 13  Inflight entertainment             129487 non-null  int64  \n",
      " 14  Online support                     129487 non-null  int64  \n",
      " 15  Ease of Online booking             129487 non-null  int64  \n",
      " 16  On-board service                   129487 non-null  int64  \n",
      " 17  Leg room service                   129487 non-null  int64  \n",
      " 18  Baggage handling                   129487 non-null  int64  \n",
      " 19  Checkin service                    129487 non-null  int64  \n",
      " 20  Cleanliness                        129487 non-null  int64  \n",
      " 21  Online boarding                    129487 non-null  int64  \n",
      " 22  Departure Delay in Minutes         129487 non-null  int64  \n",
      " 23  Arrival Delay in Minutes           129487 non-null  float64\n",
      "dtypes: float64(1), int64(18), object(5)\n",
      "memory usage: 24.7+ MB\n"
     ]
    }
   ],
   "source": [
    "df.info()"
   ]
  },
  {
   "cell_type": "code",
   "execution_count": 5,
   "id": "a2fe4a6f-1f59-41f5-87b6-520ed0c7099c",
   "metadata": {
    "nbgrader": {
     "grade": false,
     "grade_id": "cell-14ebda409eca80b0",
     "locked": true,
     "schema_version": 3,
     "solution": false,
     "task": false
    }
   },
   "outputs": [
    {
     "data": {
      "text/html": [
       "<div>\n",
       "<style scoped>\n",
       "    .dataframe tbody tr th:only-of-type {\n",
       "        vertical-align: middle;\n",
       "    }\n",
       "\n",
       "    .dataframe tbody tr th {\n",
       "        vertical-align: top;\n",
       "    }\n",
       "\n",
       "    .dataframe thead th {\n",
       "        text-align: right;\n",
       "    }\n",
       "</style>\n",
       "<table border=\"1\" class=\"dataframe\">\n",
       "  <thead>\n",
       "    <tr style=\"text-align: right;\">\n",
       "      <th></th>\n",
       "      <th>id</th>\n",
       "      <th>Age</th>\n",
       "      <th>Flight Distance</th>\n",
       "      <th>Seat comfort</th>\n",
       "      <th>Departure/Arrival time convenient</th>\n",
       "      <th>Food and drink</th>\n",
       "      <th>Gate location</th>\n",
       "      <th>Inflight wifi service</th>\n",
       "      <th>Inflight entertainment</th>\n",
       "      <th>Online support</th>\n",
       "      <th>Ease of Online booking</th>\n",
       "      <th>On-board service</th>\n",
       "      <th>Leg room service</th>\n",
       "      <th>Baggage handling</th>\n",
       "      <th>Checkin service</th>\n",
       "      <th>Cleanliness</th>\n",
       "      <th>Online boarding</th>\n",
       "      <th>Departure Delay in Minutes</th>\n",
       "      <th>Arrival Delay in Minutes</th>\n",
       "    </tr>\n",
       "  </thead>\n",
       "  <tbody>\n",
       "    <tr>\n",
       "      <th>count</th>\n",
       "      <td>129487.000000</td>\n",
       "      <td>129487.000000</td>\n",
       "      <td>129487.000000</td>\n",
       "      <td>129487.000000</td>\n",
       "      <td>129487.000000</td>\n",
       "      <td>129487.000000</td>\n",
       "      <td>129487.000000</td>\n",
       "      <td>129487.000000</td>\n",
       "      <td>129487.000000</td>\n",
       "      <td>129487.000000</td>\n",
       "      <td>129487.000000</td>\n",
       "      <td>129487.000000</td>\n",
       "      <td>129487.000000</td>\n",
       "      <td>129487.000000</td>\n",
       "      <td>129487.000000</td>\n",
       "      <td>129487.000000</td>\n",
       "      <td>129487.000000</td>\n",
       "      <td>129487.000000</td>\n",
       "      <td>129487.000000</td>\n",
       "    </tr>\n",
       "    <tr>\n",
       "      <th>mean</th>\n",
       "      <td>64958.335169</td>\n",
       "      <td>39.428761</td>\n",
       "      <td>1981.008974</td>\n",
       "      <td>2.838586</td>\n",
       "      <td>2.990277</td>\n",
       "      <td>2.852024</td>\n",
       "      <td>2.990377</td>\n",
       "      <td>3.249160</td>\n",
       "      <td>3.383745</td>\n",
       "      <td>3.519967</td>\n",
       "      <td>3.472171</td>\n",
       "      <td>3.465143</td>\n",
       "      <td>3.486118</td>\n",
       "      <td>3.695460</td>\n",
       "      <td>3.340729</td>\n",
       "      <td>3.705886</td>\n",
       "      <td>3.352545</td>\n",
       "      <td>14.643385</td>\n",
       "      <td>15.091129</td>\n",
       "    </tr>\n",
       "    <tr>\n",
       "      <th>std</th>\n",
       "      <td>37489.781165</td>\n",
       "      <td>15.117597</td>\n",
       "      <td>1026.884131</td>\n",
       "      <td>1.392873</td>\n",
       "      <td>1.527183</td>\n",
       "      <td>1.443587</td>\n",
       "      <td>1.305917</td>\n",
       "      <td>1.318765</td>\n",
       "      <td>1.345959</td>\n",
       "      <td>1.306326</td>\n",
       "      <td>1.305573</td>\n",
       "      <td>1.270755</td>\n",
       "      <td>1.292079</td>\n",
       "      <td>1.156487</td>\n",
       "      <td>1.260561</td>\n",
       "      <td>1.151683</td>\n",
       "      <td>1.298624</td>\n",
       "      <td>37.932867</td>\n",
       "      <td>38.465650</td>\n",
       "    </tr>\n",
       "    <tr>\n",
       "      <th>min</th>\n",
       "      <td>1.000000</td>\n",
       "      <td>7.000000</td>\n",
       "      <td>50.000000</td>\n",
       "      <td>0.000000</td>\n",
       "      <td>0.000000</td>\n",
       "      <td>0.000000</td>\n",
       "      <td>0.000000</td>\n",
       "      <td>0.000000</td>\n",
       "      <td>0.000000</td>\n",
       "      <td>0.000000</td>\n",
       "      <td>0.000000</td>\n",
       "      <td>0.000000</td>\n",
       "      <td>0.000000</td>\n",
       "      <td>1.000000</td>\n",
       "      <td>0.000000</td>\n",
       "      <td>0.000000</td>\n",
       "      <td>0.000000</td>\n",
       "      <td>0.000000</td>\n",
       "      <td>0.000000</td>\n",
       "    </tr>\n",
       "    <tr>\n",
       "      <th>25%</th>\n",
       "      <td>32494.500000</td>\n",
       "      <td>27.000000</td>\n",
       "      <td>1359.000000</td>\n",
       "      <td>2.000000</td>\n",
       "      <td>2.000000</td>\n",
       "      <td>2.000000</td>\n",
       "      <td>2.000000</td>\n",
       "      <td>2.000000</td>\n",
       "      <td>2.000000</td>\n",
       "      <td>3.000000</td>\n",
       "      <td>2.000000</td>\n",
       "      <td>3.000000</td>\n",
       "      <td>2.000000</td>\n",
       "      <td>3.000000</td>\n",
       "      <td>3.000000</td>\n",
       "      <td>3.000000</td>\n",
       "      <td>2.000000</td>\n",
       "      <td>0.000000</td>\n",
       "      <td>0.000000</td>\n",
       "    </tr>\n",
       "    <tr>\n",
       "      <th>50%</th>\n",
       "      <td>64972.000000</td>\n",
       "      <td>40.000000</td>\n",
       "      <td>1924.000000</td>\n",
       "      <td>3.000000</td>\n",
       "      <td>3.000000</td>\n",
       "      <td>3.000000</td>\n",
       "      <td>3.000000</td>\n",
       "      <td>3.000000</td>\n",
       "      <td>4.000000</td>\n",
       "      <td>4.000000</td>\n",
       "      <td>4.000000</td>\n",
       "      <td>4.000000</td>\n",
       "      <td>4.000000</td>\n",
       "      <td>4.000000</td>\n",
       "      <td>3.000000</td>\n",
       "      <td>4.000000</td>\n",
       "      <td>4.000000</td>\n",
       "      <td>0.000000</td>\n",
       "      <td>0.000000</td>\n",
       "    </tr>\n",
       "    <tr>\n",
       "      <th>75%</th>\n",
       "      <td>97415.500000</td>\n",
       "      <td>51.000000</td>\n",
       "      <td>2543.000000</td>\n",
       "      <td>4.000000</td>\n",
       "      <td>4.000000</td>\n",
       "      <td>4.000000</td>\n",
       "      <td>4.000000</td>\n",
       "      <td>4.000000</td>\n",
       "      <td>4.000000</td>\n",
       "      <td>5.000000</td>\n",
       "      <td>5.000000</td>\n",
       "      <td>4.000000</td>\n",
       "      <td>5.000000</td>\n",
       "      <td>5.000000</td>\n",
       "      <td>4.000000</td>\n",
       "      <td>5.000000</td>\n",
       "      <td>4.000000</td>\n",
       "      <td>12.000000</td>\n",
       "      <td>13.000000</td>\n",
       "    </tr>\n",
       "    <tr>\n",
       "      <th>max</th>\n",
       "      <td>129880.000000</td>\n",
       "      <td>85.000000</td>\n",
       "      <td>6951.000000</td>\n",
       "      <td>5.000000</td>\n",
       "      <td>5.000000</td>\n",
       "      <td>5.000000</td>\n",
       "      <td>5.000000</td>\n",
       "      <td>5.000000</td>\n",
       "      <td>5.000000</td>\n",
       "      <td>5.000000</td>\n",
       "      <td>5.000000</td>\n",
       "      <td>5.000000</td>\n",
       "      <td>5.000000</td>\n",
       "      <td>5.000000</td>\n",
       "      <td>5.000000</td>\n",
       "      <td>5.000000</td>\n",
       "      <td>5.000000</td>\n",
       "      <td>1592.000000</td>\n",
       "      <td>1584.000000</td>\n",
       "    </tr>\n",
       "  </tbody>\n",
       "</table>\n",
       "</div>"
      ],
      "text/plain": [
       "                  id            Age  Flight Distance   Seat comfort  \\\n",
       "count  129487.000000  129487.000000    129487.000000  129487.000000   \n",
       "mean    64958.335169      39.428761      1981.008974       2.838586   \n",
       "std     37489.781165      15.117597      1026.884131       1.392873   \n",
       "min         1.000000       7.000000        50.000000       0.000000   \n",
       "25%     32494.500000      27.000000      1359.000000       2.000000   \n",
       "50%     64972.000000      40.000000      1924.000000       3.000000   \n",
       "75%     97415.500000      51.000000      2543.000000       4.000000   \n",
       "max    129880.000000      85.000000      6951.000000       5.000000   \n",
       "\n",
       "       Departure/Arrival time convenient  Food and drink  Gate location  \\\n",
       "count                      129487.000000   129487.000000  129487.000000   \n",
       "mean                            2.990277        2.852024       2.990377   \n",
       "std                             1.527183        1.443587       1.305917   \n",
       "min                             0.000000        0.000000       0.000000   \n",
       "25%                             2.000000        2.000000       2.000000   \n",
       "50%                             3.000000        3.000000       3.000000   \n",
       "75%                             4.000000        4.000000       4.000000   \n",
       "max                             5.000000        5.000000       5.000000   \n",
       "\n",
       "       Inflight wifi service  Inflight entertainment  Online support  \\\n",
       "count          129487.000000           129487.000000   129487.000000   \n",
       "mean                3.249160                3.383745        3.519967   \n",
       "std                 1.318765                1.345959        1.306326   \n",
       "min                 0.000000                0.000000        0.000000   \n",
       "25%                 2.000000                2.000000        3.000000   \n",
       "50%                 3.000000                4.000000        4.000000   \n",
       "75%                 4.000000                4.000000        5.000000   \n",
       "max                 5.000000                5.000000        5.000000   \n",
       "\n",
       "       Ease of Online booking  On-board service  Leg room service  \\\n",
       "count           129487.000000     129487.000000     129487.000000   \n",
       "mean                 3.472171          3.465143          3.486118   \n",
       "std                  1.305573          1.270755          1.292079   \n",
       "min                  0.000000          0.000000          0.000000   \n",
       "25%                  2.000000          3.000000          2.000000   \n",
       "50%                  4.000000          4.000000          4.000000   \n",
       "75%                  5.000000          4.000000          5.000000   \n",
       "max                  5.000000          5.000000          5.000000   \n",
       "\n",
       "       Baggage handling  Checkin service    Cleanliness  Online boarding  \\\n",
       "count     129487.000000    129487.000000  129487.000000    129487.000000   \n",
       "mean           3.695460         3.340729       3.705886         3.352545   \n",
       "std            1.156487         1.260561       1.151683         1.298624   \n",
       "min            1.000000         0.000000       0.000000         0.000000   \n",
       "25%            3.000000         3.000000       3.000000         2.000000   \n",
       "50%            4.000000         3.000000       4.000000         4.000000   \n",
       "75%            5.000000         4.000000       5.000000         4.000000   \n",
       "max            5.000000         5.000000       5.000000         5.000000   \n",
       "\n",
       "       Departure Delay in Minutes  Arrival Delay in Minutes  \n",
       "count               129487.000000             129487.000000  \n",
       "mean                    14.643385                 15.091129  \n",
       "std                     37.932867                 38.465650  \n",
       "min                      0.000000                  0.000000  \n",
       "25%                      0.000000                  0.000000  \n",
       "50%                      0.000000                  0.000000  \n",
       "75%                     12.000000                 13.000000  \n",
       "max                   1592.000000               1584.000000  "
      ]
     },
     "execution_count": 5,
     "metadata": {},
     "output_type": "execute_result"
    }
   ],
   "source": [
    "df.describe()"
   ]
  },
  {
   "cell_type": "markdown",
   "id": "aba33d97-e912-4f53-a019-9c023e082912",
   "metadata": {
    "nbgrader": {
     "grade": false,
     "grade_id": "cell-569f4f8f0733b13a",
     "locked": true,
     "schema_version": 3,
     "solution": false,
     "task": false
    }
   },
   "source": [
    "`id` probably won't be relevant for us, and will get dropped. "
   ]
  },
  {
   "cell_type": "code",
   "execution_count": 6,
   "id": "fe83d49d-d510-443d-bbe4-53b92bc9b7aa",
   "metadata": {
    "nbgrader": {
     "grade": false,
     "grade_id": "cell-99ef18988114fb1c",
     "locked": true,
     "schema_version": 3,
     "solution": false,
     "task": false
    }
   },
   "outputs": [
    {
     "data": {
      "text/plain": [
       "array(['satisfied', 'neutral or dissatisfied'], dtype=object)"
      ]
     },
     "execution_count": 6,
     "metadata": {},
     "output_type": "execute_result"
    }
   ],
   "source": [
    "df['satisfaction_v2'].unique()"
   ]
  },
  {
   "cell_type": "code",
   "execution_count": 7,
   "id": "5f533dc7-13f3-426e-be91-a97038110f10",
   "metadata": {
    "nbgrader": {
     "grade": false,
     "grade_id": "cell-e9f4cf81b2275b98",
     "locked": true,
     "schema_version": 3,
     "solution": false,
     "task": false
    }
   },
   "outputs": [
    {
     "data": {
      "text/plain": [
       "satisfaction_v2\n",
       "satisfied                  70882\n",
       "neutral or dissatisfied    58605\n",
       "Name: count, dtype: int64"
      ]
     },
     "execution_count": 7,
     "metadata": {},
     "output_type": "execute_result"
    }
   ],
   "source": [
    "df['satisfaction_v2'].value_counts()"
   ]
  },
  {
   "cell_type": "markdown",
   "id": "45e9450e-f139-4f39-a5c8-5a67f6823d2d",
   "metadata": {
    "nbgrader": {
     "grade": false,
     "grade_id": "cell-3f784f44673074b4",
     "locked": true,
     "schema_version": 3,
     "solution": false,
     "task": false
    }
   },
   "source": [
    "`satisfaction_v2` is the satisfaction by the customer, a True or False essentially. In this case it's assumed that neutral is bad and bad is bad. It would've been nicer to see more discrete categories of satisfaction, but this is all the data we have to work with."
   ]
  },
  {
   "cell_type": "markdown",
   "id": "1f8f0086-2d14-40f2-b03a-64483a5aec67",
   "metadata": {
    "nbgrader": {
     "grade": false,
     "grade_id": "cell-0552d1dad2e92792",
     "locked": true,
     "schema_version": 3,
     "solution": false,
     "task": false
    }
   },
   "source": [
    "### Preprocessing"
   ]
  },
  {
   "cell_type": "markdown",
   "id": "3b153d06-5d12-4903-9c2c-0f16e6138b18",
   "metadata": {
    "nbgrader": {
     "grade": false,
     "grade_id": "cell-9aa15d4652a68c0c",
     "locked": true,
     "schema_version": 3,
     "solution": false,
     "task": false
    }
   },
   "source": [
    "Here we drop the `id` column, categorically convert the other non-int columns, make a new data frame, and then normalize. Finally, we make train/valid/test splits."
   ]
  },
  {
   "cell_type": "code",
   "execution_count": 8,
   "id": "9b0c5b68-f746-44b9-a08a-8a57f6f36685",
   "metadata": {
    "nbgrader": {
     "grade": false,
     "grade_id": "cell-e495294d8838e64c",
     "locked": true,
     "schema_version": 3,
     "solution": false,
     "task": false
    }
   },
   "outputs": [],
   "source": [
    "columns_to_convert = ['satisfaction_v2','Gender','Customer Type','Type of Travel','Class']\n",
    "\n",
    "for column in columns_to_convert:\n",
    "    df[column] = df[column].astype('category')\n",
    "    df[column+\"_coded\"] = df[column].cat.codes\n",
    "\n",
    "old_df = df\n",
    "\n",
    "df = df.drop(columns=['id'])\n",
    "df = df.drop(columns=columns_to_convert)"
   ]
  },
  {
   "cell_type": "code",
   "execution_count": 9,
   "id": "d94561a9-23a8-4e1b-8ab3-08169496687b",
   "metadata": {
    "nbgrader": {
     "grade": false,
     "grade_id": "cell-8dc16759c06f5dd8",
     "locked": true,
     "schema_version": 3,
     "solution": false,
     "task": false
    }
   },
   "outputs": [
    {
     "name": "stdout",
     "output_type": "stream",
     "text": [
      "<class 'pandas.core.frame.DataFrame'>\n",
      "Index: 129487 entries, 0 to 129879\n",
      "Data columns (total 23 columns):\n",
      " #   Column                             Non-Null Count   Dtype  \n",
      "---  ------                             --------------   -----  \n",
      " 0   Age                                129487 non-null  int64  \n",
      " 1   Flight Distance                    129487 non-null  int64  \n",
      " 2   Seat comfort                       129487 non-null  int64  \n",
      " 3   Departure/Arrival time convenient  129487 non-null  int64  \n",
      " 4   Food and drink                     129487 non-null  int64  \n",
      " 5   Gate location                      129487 non-null  int64  \n",
      " 6   Inflight wifi service              129487 non-null  int64  \n",
      " 7   Inflight entertainment             129487 non-null  int64  \n",
      " 8   Online support                     129487 non-null  int64  \n",
      " 9   Ease of Online booking             129487 non-null  int64  \n",
      " 10  On-board service                   129487 non-null  int64  \n",
      " 11  Leg room service                   129487 non-null  int64  \n",
      " 12  Baggage handling                   129487 non-null  int64  \n",
      " 13  Checkin service                    129487 non-null  int64  \n",
      " 14  Cleanliness                        129487 non-null  int64  \n",
      " 15  Online boarding                    129487 non-null  int64  \n",
      " 16  Departure Delay in Minutes         129487 non-null  int64  \n",
      " 17  Arrival Delay in Minutes           129487 non-null  float64\n",
      " 18  satisfaction_v2_coded              129487 non-null  int8   \n",
      " 19  Gender_coded                       129487 non-null  int8   \n",
      " 20  Customer Type_coded                129487 non-null  int8   \n",
      " 21  Type of Travel_coded               129487 non-null  int8   \n",
      " 22  Class_coded                        129487 non-null  int8   \n",
      "dtypes: float64(1), int64(17), int8(5)\n",
      "memory usage: 19.4 MB\n"
     ]
    }
   ],
   "source": [
    "df.info()"
   ]
  },
  {
   "cell_type": "code",
   "execution_count": 10,
   "id": "abfe4578-27fc-4bf1-b02c-52bcec4a2711",
   "metadata": {
    "nbgrader": {
     "grade": false,
     "grade_id": "cell-04c43f0755e6af03",
     "locked": true,
     "schema_version": 3,
     "solution": false,
     "task": false
    }
   },
   "outputs": [],
   "source": [
    "columns_to_norm = ['Age','Flight Distance','Departure Delay in Minutes','Arrival Delay in Minutes']\n",
    "\n",
    "for column in columns_to_norm:\n",
    "    df[column] = df[column]/np.max(df[column])"
   ]
  },
  {
   "cell_type": "markdown",
   "id": "5cdbfdb9-774e-4552-8bf7-fff0c4b3e56a",
   "metadata": {
    "nbgrader": {
     "grade": false,
     "grade_id": "cell-2bde08245920e4f3",
     "locked": true,
     "schema_version": 3,
     "solution": false,
     "task": false
    }
   },
   "source": [
    "#### Train Test Splits (1 point)"
   ]
  },
  {
   "cell_type": "markdown",
   "id": "368edeb0-d4e1-4071-8fca-36f5580c4104",
   "metadata": {
    "nbgrader": {
     "grade": false,
     "grade_id": "cell-670e850c6791b99a",
     "locked": true,
     "schema_version": 3,
     "solution": false,
     "task": false
    }
   },
   "source": [
    "Below we create the cross validation train test splits from our data. You can learn about train/test splits here: https://the-examples-book.com/starter-guides/data-science/data-modeling/resampling-methods/cross-validation/train-valid-test\n",
    "\n",
    "**Set test_size to be some value between 0.05 and 0.30 to create a test split that is 5-30% of our total dataset**. `test_size` gets used in the scikit-learn function `train_test_split` to automatically shuffle our data and create train test splits."
   ]
  },
  {
   "cell_type": "code",
   "execution_count": null,
   "id": "a5c2d5db-a38f-4b2a-93d9-93f3f41bd6ff",
   "metadata": {
    "nbgrader": {
     "grade": false,
     "grade_id": "test_size_answer",
     "locked": false,
     "schema_version": 3,
     "solution": true,
     "task": false
    }
   },
   "outputs": [],
   "source": [
    "test_size = ??"
   ]
  },
  {
   "cell_type": "code",
   "execution_count": null,
   "id": "9e082ef9-32c7-4a80-a961-5838063b8c0f",
   "metadata": {
    "nbgrader": {
     "grade": true,
     "grade_id": "test_size_check",
     "locked": true,
     "points": 1,
     "schema_version": 3,
     "solution": false,
     "task": false
    }
   },
   "outputs": [],
   "source": [
    "if test_size < 0.05 or test_size > 0.30:\n",
    "    raise AssertionError(\"The test_size is too big or too small.\")"
   ]
  },
  {
   "cell_type": "code",
   "execution_count": null,
   "id": "92ae52dd-d20b-4fbb-b2b5-621bfe696fd1",
   "metadata": {
    "nbgrader": {
     "grade": false,
     "grade_id": "cell-223229102718b2e5",
     "locked": true,
     "schema_version": 3,
     "solution": false,
     "task": false
    }
   },
   "outputs": [],
   "source": [
    "labels = df['satisfaction_v2_coded'] #create the labels \n",
    "data = df.drop(columns=['satisfaction_v2_coded']) #recreate the data\n",
    "train_x, test_x, train_y, test_y = train_test_split(data, labels, test_size=test_size, random_state=42)"
   ]
  },
  {
   "cell_type": "markdown",
   "id": "694dac77-11eb-42a8-95ad-3d56e9041893",
   "metadata": {
    "nbgrader": {
     "grade": false,
     "grade_id": "cell-18f0f6838c99c4f9",
     "locked": true,
     "schema_version": 3,
     "solution": false,
     "task": false
    }
   },
   "source": [
    "#### Setting the Max $k$ Value (1 point)"
   ]
  },
  {
   "cell_type": "markdown",
   "id": "0b982a2a-8fc2-43ee-8318-487e9d91a79f",
   "metadata": {
    "nbgrader": {
     "grade": false,
     "grade_id": "cell-ddf4030801b53dbc",
     "locked": true,
     "schema_version": 3,
     "solution": false,
     "task": false
    }
   },
   "source": [
    "Below we create a for loop to try out multiple different $k$ values. Here we set the maximum value of $k$. You will want to set your `max_k` value to not be more than 20; it might take a while if you go higher than that, and besides, you will see that this data (like most datasets) doesn't benefit from a $k$ value higher than 10. **Set `max_k` to be equal to an int between 1 and 21 of your choice.**"
   ]
  },
  {
   "cell_type": "code",
   "execution_count": null,
   "id": "b5f4556d-ba3e-4dd7-8ca3-03b66ac63bfd",
   "metadata": {
    "nbgrader": {
     "grade": false,
     "grade_id": "max_k_answer",
     "locked": false,
     "schema_version": 3,
     "solution": true,
     "task": false
    }
   },
   "outputs": [],
   "source": [
    "max_k = ??"
   ]
  },
  {
   "cell_type": "code",
   "execution_count": null,
   "id": "fbc047e1-5f3b-4696-8dae-e037538ab34c",
   "metadata": {
    "nbgrader": {
     "grade": true,
     "grade_id": "max_k_test",
     "locked": true,
     "points": 1,
     "schema_version": 3,
     "solution": false,
     "task": false
    }
   },
   "outputs": [],
   "source": [
    "if max_k > 20 or max_k < 2:\n",
    "    raise AssertionError(\"The max k value is larger than 20 or smaller than 2.\")"
   ]
  },
  {
   "cell_type": "markdown",
   "id": "5dbb40fb-f679-40f7-8c69-e2e72e46cdd6",
   "metadata": {
    "nbgrader": {
     "grade": false,
     "grade_id": "cell-7be00821f5183608",
     "locked": true,
     "schema_version": 3,
     "solution": false,
     "task": false
    }
   },
   "source": [
    "### Model Building"
   ]
  },
  {
   "cell_type": "markdown",
   "id": "33380d43-3368-42c7-bcaa-4d886aae02af",
   "metadata": {
    "nbgrader": {
     "grade": false,
     "grade_id": "cell-b74b05b4849141fd",
     "locked": true,
     "schema_version": 3,
     "solution": false,
     "task": false
    }
   },
   "source": [
    "We create a for loop to test out many different values of $k$. It creates the $k$-nearest neighbors classifier using the $k$ value, makes predictions, and gets the accuracy metric back on those predictions into the array. Finally, it saves the result of the metrics to results_df so we can plot them."
   ]
  },
  {
   "cell_type": "code",
   "execution_count": 13,
   "id": "f10e3595-70f3-4d24-b856-6de17fd6ab5e",
   "metadata": {
    "nbgrader": {
     "grade": false,
     "grade_id": "cell-4216605e48894dd8",
     "locked": true,
     "schema_version": 3,
     "solution": false,
     "task": false
    }
   },
   "outputs": [
    {
     "ename": "SyntaxError",
     "evalue": "invalid syntax (3113960034.py, line 1)",
     "output_type": "error",
     "traceback": [
      "\u001b[0;36m  Cell \u001b[0;32mIn[13], line 1\u001b[0;36m\u001b[0m\n\u001b[0;31m    max_k = ??\u001b[0m\n\u001b[0m            ^\u001b[0m\n\u001b[0;31mSyntaxError\u001b[0m\u001b[0;31m:\u001b[0m invalid syntax\n"
     ]
    }
   ],
   "source": [
    "k_values = []\n",
    "train_acc = []\n",
    "test_acc = []\n",
    "\n",
    "#for each possible k we can test from 2 to the max possible k value (including max_k)\n",
    "for k in range(2,max_k+1):\n",
    "#Train Model and Predict  \n",
    "    print(\"Now testing value of k:\",k)\n",
    "    neigh = KNeighborsClassifier(n_neighbors = k).fit(train_x,train_y)\n",
    "    yhat = neigh.predict(test_x)\n",
    "    k_values.append(k)\n",
    "    train_acc.append(metrics.accuracy_score(train_y, neigh.predict(train_x)))\n",
    "    test_acc.append(metrics.accuracy_score(test_y, yhat))\n",
    "\n",
    "#convert results to df\n",
    "results_data = {'k':k_values, 'Training Accuracy':train_acc, 'Test Accuracy':test_acc}\n",
    "results_df = pd.DataFrame(data=results_data)"
   ]
  },
  {
   "cell_type": "code",
   "execution_count": null,
   "id": "4801713d-3ceb-4af5-91cc-4e691cdfd921",
   "metadata": {
    "nbgrader": {
     "grade": false,
     "grade_id": "cell-ec3c1c3e580ab6da",
     "locked": true,
     "schema_version": 3,
     "solution": false,
     "task": false
    }
   },
   "outputs": [],
   "source": [
    "print(\"The k value with the highest accuracy betwen 2 and\", max_k,\"is\",np.argmax(test_acc)+2)"
   ]
  },
  {
   "cell_type": "code",
   "execution_count": null,
   "id": "7d4eba42-6883-43e1-a75b-4adf38204db2",
   "metadata": {
    "nbgrader": {
     "grade": false,
     "grade_id": "cell-311b926511025745",
     "locked": true,
     "schema_version": 3,
     "solution": false,
     "task": false
    }
   },
   "outputs": [],
   "source": [
    "# setting the dimensions\n",
    "fig, ax = plt.subplots(figsize=(30, 18))\n",
    " \n",
    "# drawing the plot\n",
    "sns.lineplot(results_df, x='k',y='Test Accuracy', ax=ax).set_title(\"Test Accuracy For Each k Value\")\n",
    "plt.show()"
   ]
  },
  {
   "cell_type": "markdown",
   "id": "ace3c8b1-9f9f-4942-8877-be84a5f5dfc3",
   "metadata": {
    "nbgrader": {
     "grade": false,
     "grade_id": "cell-e019afd340f32ba2",
     "locked": true,
     "schema_version": 3,
     "solution": false,
     "task": false
    }
   },
   "source": [
    "### Discussion"
   ]
  },
  {
   "cell_type": "markdown",
   "id": "b896e5a5-b4bb-424c-9c02-80c4ab761460",
   "metadata": {
    "nbgrader": {
     "grade": false,
     "grade_id": "cell-a62ea3189c332156",
     "locked": true,
     "schema_version": 3,
     "solution": false,
     "task": false
    }
   },
   "source": [
    "For most data, it is common that the ideal $k$ value is often somewhere between 5 and 10. There will often be an approximate arc like you see above, and the ideal $k$ will typically be an inflection point, after which the accuracy (or whatever other metric used) fares progressively worse."
   ]
  },
  {
   "cell_type": "markdown",
   "id": "fa9a1f5c-633b-41f4-bc3b-493f551f9e34",
   "metadata": {
    "nbgrader": {
     "grade": false,
     "grade_id": "cell-d7cf262b6bcf86fe",
     "locked": true,
     "schema_version": 3,
     "solution": false,
     "task": false
    }
   },
   "source": [
    "### Summary"
   ]
  },
  {
   "cell_type": "markdown",
   "id": "a06d04c7-7c54-448a-a986-f83c47bfa2eb",
   "metadata": {
    "nbgrader": {
     "grade": false,
     "grade_id": "cell-31ce1976eda24c14",
     "locked": true,
     "schema_version": 3,
     "solution": false,
     "task": false
    }
   },
   "source": [
    "k-nearest neighbors is a very simple algorithm to understand and implement. It can be used for both classification and regression, and its ease of use can make it a great starting point for many datasets."
   ]
  }
 ],
 "metadata": {
  "kernelspec": {
   "display_name": "primary_python_env",
   "language": "python",
   "name": "primary_python_env"
  },
  "language_info": {
   "codemirror_mode": {
    "name": "ipython",
    "version": 3
   },
   "file_extension": ".py",
   "mimetype": "text/x-python",
   "name": "python",
   "nbconvert_exporter": "python",
   "pygments_lexer": "ipython3",
   "version": "3.9.2"
  }
 },
 "nbformat": 4,
 "nbformat_minor": 5
}

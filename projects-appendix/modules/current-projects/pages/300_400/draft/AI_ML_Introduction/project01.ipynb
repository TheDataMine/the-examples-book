{
 "cells": [
  {
   "cell_type": "markdown",
   "id": "432fbc61-b43a-4d3a-b1a8-e7cf3a3f50a4",
   "metadata": {
    "nbgrader": {
     "grade": false,
     "grade_id": "cell-04647ed3078849a3",
     "locked": true,
     "schema_version": 3,
     "solution": false,
     "task": false
    }
   },
   "source": [
    "# Introduction to Artificial Intelligence and Machine Learning (AI/ML)"
   ]
  },
  {
   "cell_type": "markdown",
   "id": "1a37d58f-522a-4ed5-b5ca-bf7daec5a816",
   "metadata": {
    "nbgrader": {
     "grade": false,
     "grade_id": "cell-55a4349255e68406",
     "locked": true,
     "schema_version": 3,
     "solution": false,
     "task": false
    }
   },
   "source": [
    "## Project Objectives\n",
    "- Define AI/ML and the difference between them\n",
    "- Compare ML vs. expert based systems\n",
    "- Explore ways in which AI/ML gets used\n",
    "- Do the \"Hello World\" of neural networks as an introduction to AI/ML"
   ]
  },
  {
   "cell_type": "markdown",
   "id": "dad622a6-44bd-4100-b0c1-cdfce690e587",
   "metadata": {},
   "source": [
    "## Our Sources"
   ]
  },
  {
   "cell_type": "markdown",
   "id": "9a4a4b92-9b5b-4285-bf3e-d1f88cf1869f",
   "metadata": {},
   "source": [
    "- <a href=https://web.archive.org/web/20231129013703/https://www.ibm.com/topics/artificial-intelligence>What is Artificial Intelligence? (IBM)<a>\n",
    "- <a href=https://web.archive.org/web/20231127132627/https://www.ibm.com/topics/machine-learning>What is Machine Learning? (IBM)<a>\n",
    "- <a href=https://web.archive.org/web/20140505045226/http://stpk.cs.rtu.lv/sites/all/files/stpk/materiali/MI/Artificial%20Intelligence%20A%20Modern%20Approach.pdf>Russell & Norvig (1995)</a>\n",
    "- https://www.statlearning.com/"
   ]
  },
  {
   "cell_type": "markdown",
   "id": "df30f340-3f62-4698-9a2e-bb60f813588f",
   "metadata": {
    "nbgrader": {
     "grade": false,
     "grade_id": "cell-f608626911043cd8",
     "locked": true,
     "schema_version": 3,
     "solution": false,
     "task": false
    }
   },
   "source": [
    "## AI and ML: Definitions and Differences (2 points)"
   ]
  },
  {
   "cell_type": "markdown",
   "id": "41f0e227-c303-4e9b-8ee4-588beffacd2f",
   "metadata": {
    "nbgrader": {
     "grade": false,
     "grade_id": "cell-c528559e2f8a47c4",
     "locked": true,
     "schema_version": 3,
     "solution": false,
     "task": false
    }
   },
   "source": [
    "Read from both of these links on the difference (or lack thereof) between AI and ML:\n",
    "\n",
    "- <a href=https://web.archive.org/web/20231129013703/https://www.ibm.com/topics/artificial-intelligence>What is Artificial Intelligence? (IBM)<a>\n",
    "- <a href=https://web.archive.org/web/20231127132627/https://www.ibm.com/topics/machine-learning>What is Machine Learning? (IBM)<a>\n",
    "\n",
    "**In 1-2 sentences, describe the difference (or lack thereof) between machine learning and artificial intelligence in the cell below.** Citations are not required."
   ]
  },
  {
   "cell_type": "markdown",
   "id": "215d421e-4d39-4e8f-a914-5aa1a24dcc1c",
   "metadata": {
    "nbgrader": {
     "grade": true,
     "grade_id": "cell-163511a9d3dcbe0f",
     "locked": false,
     "points": 1,
     "schema_version": 3,
     "solution": true,
     "task": false
    }
   },
   "source": []
  },
  {
   "cell_type": "markdown",
   "id": "8cc40505-fe0a-40d4-8161-59f6ede7b5c3",
   "metadata": {
    "nbgrader": {
     "grade": false,
     "grade_id": "cell-3a54407438cde880",
     "locked": true,
     "schema_version": 3,
     "solution": false,
     "task": false
    }
   },
   "source": [
    "## Expert Based Systems (2 points)"
   ]
  },
  {
   "cell_type": "markdown",
   "id": "e7a721bc-92bb-4b60-b7db-9c3dcba712d3",
   "metadata": {
    "nbgrader": {
     "grade": false,
     "grade_id": "cell-af281b4297b9e8d2",
     "locked": true,
     "schema_version": 3,
     "solution": false,
     "task": false
    }
   },
   "source": [
    "Read from <a href=https://web.archive.org/web/20140505045226/http://stpk.cs.rtu.lv/sites/all/files/stpk/materiali/MI/Artificial%20Intelligence%20A%20Modern%20Approach.pdf>this AI textbook from Russell & Norvig (1995)</a> on what an **expert system** is. Then describe the difference between an expert system and machine learning. The relevant section is titled *Knowledge-based systems: The key to power? (1969-1979)* and starts at page 22 (you should only need to read this one section).\n",
    "\n",
    "**In a few sentences, describe the difference between machine learning and expert systems in the cell below**. Citations are not required."
   ]
  },
  {
   "cell_type": "markdown",
   "id": "8d3bf203-393b-4122-aedb-1236864ed657",
   "metadata": {
    "nbgrader": {
     "grade": true,
     "grade_id": "cell-db20e67f4d5c8f9d",
     "locked": false,
     "points": 1,
     "schema_version": 3,
     "solution": true,
     "task": false
    }
   },
   "source": []
  },
  {
   "cell_type": "markdown",
   "id": "6f74378d-3198-45cc-82ad-263cfb6d53b9",
   "metadata": {
    "nbgrader": {
     "grade": false,
     "grade_id": "cell-c4da309651fb519b",
     "locked": true,
     "schema_version": 3,
     "solution": false,
     "task": false
    }
   },
   "source": [
    "## Use Cases For AI/ML (2 points)"
   ]
  },
  {
   "cell_type": "markdown",
   "id": "048a1ce3-04c5-4728-8cb2-51e2d1632103",
   "metadata": {
    "nbgrader": {
     "grade": false,
     "grade_id": "cell-ad70b7d703774a53",
     "locked": true,
     "schema_version": 3,
     "solution": false,
     "task": false
    }
   },
   "source": [
    "Go back to the link <a href=https://web.archive.org/web/20231127132627/https://www.ibm.com/topics/machine-learning>What is Machine Learning? (IBM)<a> and scroll down to the \"Real-world machine learning use cases\" section.\n",
    "\n",
    "**In 1-3 sentences, explain which one of the given use cases interest you the most and why**. Citations are not required."
   ]
  },
  {
   "cell_type": "markdown",
   "id": "5c7ac2e5-9f04-4886-a16a-570331163cd6",
   "metadata": {
    "nbgrader": {
     "grade": true,
     "grade_id": "cell-78f3f8e29551d5fb",
     "locked": false,
     "points": 1,
     "schema_version": 3,
     "solution": true,
     "task": false
    }
   },
   "source": []
  },
  {
   "cell_type": "markdown",
   "id": "1a5c268a-62c2-495b-bcea-33cad95f478c",
   "metadata": {
    "nbgrader": {
     "grade": false,
     "grade_id": "cell-7f8c7301f61021a7",
     "locked": true,
     "schema_version": 3,
     "solution": false,
     "task": false
    }
   },
   "source": [
    "## A Machine Learning Algorithm: $k$-nearest neighbors (knn)"
   ]
  },
  {
   "cell_type": "markdown",
   "id": "003fa6d4-cf30-43ed-a9b0-a05c9900ceb7",
   "metadata": {
    "nbgrader": {
     "grade": false,
     "grade_id": "cell-5722638f350edea4",
     "locked": true,
     "schema_version": 3,
     "solution": false,
     "task": false
    },
    "tags": []
   },
   "source": [
    "Below we implement the $k$-nearest neighbors algorithm using Scikit-Learn, a machine learning package. \n",
    "\n",
    "*You might not understand what most of this code is doing, and we don't expect you to! The entire algorithm is mostly implemented for you; all you need to do is edit a few lines of code to finish it.* **There will be clear instructions at the two points where you need to edit the code to get it to work.**\n",
    "\n",
    "If you are interested in learning more about $k$-nearest neighbors, check out chapter 2.2.3 of ISL: https://www.statlearning.com/ or visit the <a href=https://the-examples-book.com/starter-guides/data-science/data-analysis/k-nearest-neighbors>Starter Guide page</a> (this code comes directly from the `knn` code example)."
   ]
  },
  {
   "cell_type": "code",
   "execution_count": null,
   "id": "e02dbf27-865c-4b66-ba20-544ebe3aac04",
   "metadata": {
    "nbgrader": {
     "grade": false,
     "grade_id": "cell-eb2dd79430b490af",
     "locked": true,
     "schema_version": 3,
     "solution": false,
     "task": false
    }
   },
   "outputs": [],
   "source": [
    "import pandas as pd\n",
    "import openpyxl\n",
    "import numpy as np\n",
    "from sklearn.neighbors import KNeighborsClassifier\n",
    "from sklearn import metrics\n",
    "import seaborn as sns\n",
    "import matplotlib.pyplot as plt\n",
    "import warnings\n",
    "import math\n",
    "from sklearn.model_selection import train_test_split\n",
    "\n",
    "warnings.filterwarnings('ignore') #ignore warnings that occur"
   ]
  },
  {
   "cell_type": "code",
   "execution_count": null,
   "id": "9f4dc9a5-ec3b-412a-83c8-9798fc4000fb",
   "metadata": {},
   "outputs": [],
   "source": [
    "df = pd.read_excel(\"data.xlsx\")\n",
    "df = df.dropna()\n",
    "columns_to_convert = ['satisfaction_v2','Gender','Customer Type','Type of Travel','Class']\n",
    "\n",
    "for column in columns_to_convert:\n",
    "    df[column] = df[column].astype('category')\n",
    "    df[column+\"_coded\"] = df[column].cat.codes\n",
    "\n",
    "old_df = df\n",
    "\n",
    "df = df.drop(columns=['id'])\n",
    "df = df.drop(columns=columns_to_convert)\n",
    "\n",
    "columns_to_norm = ['Age','Flight Distance','Departure Delay in Minutes','Arrival Delay in Minutes']\n",
    "\n",
    "for column in columns_to_norm:\n",
    "    df[column] = df[column]/np.max(df[column])"
   ]
  },
  {
   "cell_type": "markdown",
   "id": "5cdbfdb9-774e-4552-8bf7-fff0c4b3e56a",
   "metadata": {
    "nbgrader": {
     "grade": false,
     "grade_id": "cell-2bde08245920e4f3",
     "locked": true,
     "schema_version": 3,
     "solution": false,
     "task": false
    }
   },
   "source": [
    "#### Train Test Splits (2 points)"
   ]
  },
  {
   "cell_type": "markdown",
   "id": "368edeb0-d4e1-4071-8fca-36f5580c4104",
   "metadata": {
    "nbgrader": {
     "grade": false,
     "grade_id": "cell-670e850c6791b99a",
     "locked": true,
     "schema_version": 3,
     "solution": false,
     "task": false
    }
   },
   "source": [
    "Below we create the cross validation train test splits from our data. You can learn about train/test splits here: https://the-examples-book.com/starter-guides/data-science/data-modeling/resampling-methods/cross-validation/train-valid-test\n",
    "\n",
    "**Set a float called `test_size` to be some value between 0.05 and 0.30 to create a test split that is 5-30% of our total dataset**. `test_size` gets used in the scikit-learn function `train_test_split` to automatically shuffle our data and create train test splits."
   ]
  },
  {
   "cell_type": "code",
   "execution_count": null,
   "id": "a5c2d5db-a38f-4b2a-93d9-93f3f41bd6ff",
   "metadata": {
    "nbgrader": {
     "grade": false,
     "grade_id": "test_size_answer",
     "locked": false,
     "schema_version": 3,
     "solution": true,
     "task": false
    }
   },
   "outputs": [],
   "source": [
    "test_size = ??"
   ]
  },
  {
   "cell_type": "code",
   "execution_count": null,
   "id": "92ae52dd-d20b-4fbb-b2b5-621bfe696fd1",
   "metadata": {
    "nbgrader": {
     "grade": false,
     "grade_id": "cell-223229102718b2e5",
     "locked": true,
     "schema_version": 3,
     "solution": false,
     "task": false
    }
   },
   "outputs": [],
   "source": [
    "labels = df['satisfaction_v2_coded'] #create the labels \n",
    "data = df.drop(columns=['satisfaction_v2_coded']) #recreate the data\n",
    "train_x, test_x, train_y, test_y = train_test_split(data, labels, test_size=test_size, random_state=42)"
   ]
  },
  {
   "cell_type": "markdown",
   "id": "694dac77-11eb-42a8-95ad-3d56e9041893",
   "metadata": {
    "nbgrader": {
     "grade": false,
     "grade_id": "cell-18f0f6838c99c4f9",
     "locked": true,
     "schema_version": 3,
     "solution": false,
     "task": false
    }
   },
   "source": [
    "#### Setting the Max $k$ Value (2 points)"
   ]
  },
  {
   "cell_type": "markdown",
   "id": "0b982a2a-8fc2-43ee-8318-487e9d91a79f",
   "metadata": {
    "nbgrader": {
     "grade": false,
     "grade_id": "cell-ddf4030801b53dbc",
     "locked": true,
     "schema_version": 3,
     "solution": false,
     "task": false
    }
   },
   "source": [
    "Below we create a for loop to try out multiple different $k$ values. Here we set the maximum value of $k$. You will want to set your `max_k` value to not be more than 20; it might take a while if you go higher than that, and besides, you will see that this data (like most datasets) doesn't benefit from a $k$ value higher than 10. **Set variable `max_k` to be equal to an int between 1 and 21 of your choice.**"
   ]
  },
  {
   "cell_type": "code",
   "execution_count": null,
   "id": "b5f4556d-ba3e-4dd7-8ca3-03b66ac63bfd",
   "metadata": {
    "nbgrader": {
     "grade": false,
     "grade_id": "max_k_answer",
     "locked": false,
     "schema_version": 3,
     "solution": true,
     "task": false
    }
   },
   "outputs": [],
   "source": [
    "max_k = ??"
   ]
  },
  {
   "cell_type": "code",
   "execution_count": null,
   "id": "f10e3595-70f3-4d24-b856-6de17fd6ab5e",
   "metadata": {
    "nbgrader": {
     "grade": false,
     "grade_id": "cell-4216605e48894dd8",
     "locked": true,
     "schema_version": 3,
     "solution": false,
     "task": false
    }
   },
   "outputs": [],
   "source": [
    "k_values = []\n",
    "train_acc = []\n",
    "test_acc = []\n",
    "\n",
    "#for each possible k we can test from 2 to the max possible k value (including max_k)\n",
    "for k in range(2,max_k+1):\n",
    "#Train Model and Predict  \n",
    "    print(\"Now testing value of k:\",k)\n",
    "    neigh = KNeighborsClassifier(n_neighbors = k).fit(train_x,train_y)\n",
    "    yhat = neigh.predict(test_x)\n",
    "    k_values.append(k)\n",
    "    train_acc.append(metrics.accuracy_score(train_y, neigh.predict(train_x)))\n",
    "    test_acc.append(metrics.accuracy_score(test_y, yhat))\n",
    "\n",
    "#convert results to df\n",
    "results_data = {'k':k_values, 'Training Accuracy':train_acc, 'Test Accuracy':test_acc}\n",
    "results_df = pd.DataFrame(data=results_data)\n",
    "\n",
    "print(\"The k value with the highest accuracy betwen 2 and\", max_k,\"is\",np.argmax(test_acc)+2)\n",
    "\n",
    "# setting the dimensions\n",
    "fig, ax = plt.subplots(figsize=(30, 18))\n",
    " \n",
    "# drawing the plot\n",
    "sns.lineplot(results_df, x='k',y='Test Accuracy', ax=ax).set_title(\"Test Accuracy For Each k Value\")\n",
    "plt.show()"
   ]
  }
 ],
 "metadata": {
  "kernelspec": {
   "display_name": "primary_python_env",
   "language": "python",
   "name": "primary_python_env"
  },
  "language_info": {
   "codemirror_mode": {
    "name": "ipython",
    "version": 3
   },
   "file_extension": ".py",
   "mimetype": "text/x-python",
   "name": "python",
   "nbconvert_exporter": "python",
   "pygments_lexer": "ipython3",
   "version": "3.9.2"
  }
 },
 "nbformat": 4,
 "nbformat_minor": 5
}

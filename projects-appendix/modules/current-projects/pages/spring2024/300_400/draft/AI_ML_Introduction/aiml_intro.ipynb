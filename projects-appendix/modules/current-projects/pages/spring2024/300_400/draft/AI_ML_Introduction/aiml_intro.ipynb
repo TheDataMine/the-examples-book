{
 "cells": [
  {
   "cell_type": "markdown",
   "id": "432fbc61-b43a-4d3a-b1a8-e7cf3a3f50a4",
   "metadata": {
    "nbgrader": {
     "grade": false,
     "grade_id": "cell-04647ed3078849a3",
     "locked": true,
     "schema_version": 3,
     "solution": false,
     "task": false
    }
   },
   "source": [
    "# Introduction to Artificial Intelligence and Machine Learning (AI/ML)"
   ]
  },
  {
   "cell_type": "markdown",
   "id": "1a37d58f-522a-4ed5-b5ca-bf7daec5a816",
   "metadata": {
    "nbgrader": {
     "grade": false,
     "grade_id": "cell-55a4349255e68406",
     "locked": true,
     "schema_version": 3,
     "solution": false,
     "task": false
    }
   },
   "source": [
    "## Module Objectives\n",
    "- Define AI/ML and the difference between them\n",
    "- Compare ML vs. expert based systems\n",
    "- Explore ways in which AI/ML gets used\n",
    "- Do the \"Hello World\" of neural networks as an introduction to AI/ML"
   ]
  },
  {
   "cell_type": "markdown",
   "id": "df30f340-3f62-4698-9a2e-bb60f813588f",
   "metadata": {
    "nbgrader": {
     "grade": false,
     "grade_id": "cell-f608626911043cd8",
     "locked": true,
     "schema_version": 3,
     "solution": false,
     "task": false
    }
   },
   "source": [
    "## AI and ML: Definitions and Differences (1 point)"
   ]
  },
  {
   "cell_type": "markdown",
   "id": "41f0e227-c303-4e9b-8ee4-588beffacd2f",
   "metadata": {
    "nbgrader": {
     "grade": false,
     "grade_id": "cell-c528559e2f8a47c4",
     "locked": true,
     "schema_version": 3,
     "solution": false,
     "task": false
    }
   },
   "source": [
    "Read from both of these links on the difference (or lack thereof) between AI and ML:\n",
    "\n",
    "- <a href=https://web.archive.org/web/20231129013703/https://www.ibm.com/topics/artificial-intelligence>What is Artificial Intelligence? (IBM)<a>\n",
    "- <a href=https://web.archive.org/web/20231127132627/https://www.ibm.com/topics/machine-learning>What is Machine Learning? (IBM)<a>\n",
    "\n",
    "**In a few sentences, describe the difference (or lack thereof) between machine learning and artificial intelligence in the cell below.** Citations are not required."
   ]
  },
  {
   "cell_type": "markdown",
   "id": "215d421e-4d39-4e8f-a914-5aa1a24dcc1c",
   "metadata": {
    "nbgrader": {
     "grade": true,
     "grade_id": "cell-163511a9d3dcbe0f",
     "locked": false,
     "points": 1,
     "schema_version": 3,
     "solution": true,
     "task": false
    }
   },
   "source": []
  },
  {
   "cell_type": "markdown",
   "id": "8cc40505-fe0a-40d4-8161-59f6ede7b5c3",
   "metadata": {
    "nbgrader": {
     "grade": false,
     "grade_id": "cell-3a54407438cde880",
     "locked": true,
     "schema_version": 3,
     "solution": false,
     "task": false
    }
   },
   "source": [
    "## Expert Based Systems (1 point)"
   ]
  },
  {
   "cell_type": "markdown",
   "id": "e7a721bc-92bb-4b60-b7db-9c3dcba712d3",
   "metadata": {
    "nbgrader": {
     "grade": false,
     "grade_id": "cell-af281b4297b9e8d2",
     "locked": true,
     "schema_version": 3,
     "solution": false,
     "task": false
    }
   },
   "source": [
    "Read from <a href=https://web.archive.org/web/20140505045226/http://stpk.cs.rtu.lv/sites/all/files/stpk/materiali/MI/Artificial%20Intelligence%20A%20Modern%20Approach.pdf>this paper from Russell & Norvig (1995)</a> on what an **expert system** is. Then describe the difference between an expert system and machine learning. The relevant section is titled *Knowledge-based systems: The key to power? (1969-1979)* and starts at page 22 (you should only need to read this one section).\n",
    "\n",
    "**In a few sentences, describe the difference between machine learning and expert systems in the cell below**. Citations are not required."
   ]
  },
  {
   "cell_type": "markdown",
   "id": "8d3bf203-393b-4122-aedb-1236864ed657",
   "metadata": {
    "nbgrader": {
     "grade": true,
     "grade_id": "cell-db20e67f4d5c8f9d",
     "locked": false,
     "points": 1,
     "schema_version": 3,
     "solution": true,
     "task": false
    }
   },
   "source": []
  },
  {
   "cell_type": "markdown",
   "id": "6f74378d-3198-45cc-82ad-263cfb6d53b9",
   "metadata": {
    "nbgrader": {
     "grade": false,
     "grade_id": "cell-c4da309651fb519b",
     "locked": true,
     "schema_version": 3,
     "solution": false,
     "task": false
    }
   },
   "source": [
    "## Use Cases For AI/ML (1 point)"
   ]
  },
  {
   "cell_type": "markdown",
   "id": "048a1ce3-04c5-4728-8cb2-51e2d1632103",
   "metadata": {
    "nbgrader": {
     "grade": false,
     "grade_id": "cell-ad70b7d703774a53",
     "locked": true,
     "schema_version": 3,
     "solution": false,
     "task": false
    }
   },
   "source": [
    "Go back to the link <a href=https://web.archive.org/web/20231127132627/https://www.ibm.com/topics/machine-learning>What is Machine Learning? (IBM)<a> and scroll down to the \"Real-world machine learning use cases\" section.\n",
    "\n",
    "**In 1-3 sentences, explain which one of the given use cases interest you the most and why**. Citations are not required."
   ]
  },
  {
   "cell_type": "markdown",
   "id": "5c7ac2e5-9f04-4886-a16a-570331163cd6",
   "metadata": {
    "nbgrader": {
     "grade": true,
     "grade_id": "cell-78f3f8e29551d5fb",
     "locked": false,
     "points": 1,
     "schema_version": 3,
     "solution": true,
     "task": false
    }
   },
   "source": []
  },
  {
   "cell_type": "markdown",
   "id": "1a5c268a-62c2-495b-bcea-33cad95f478c",
   "metadata": {
    "nbgrader": {
     "grade": false,
     "grade_id": "cell-7f8c7301f61021a7",
     "locked": true,
     "schema_version": 3,
     "solution": false,
     "task": false
    }
   },
   "source": [
    "## A Machine Learning Algorithm: $k$-nearest neighbors (knn)"
   ]
  },
  {
   "cell_type": "markdown",
   "id": "003fa6d4-cf30-43ed-a9b0-a05c9900ceb7",
   "metadata": {
    "nbgrader": {
     "grade": false,
     "grade_id": "cell-5722638f350edea4",
     "locked": true,
     "schema_version": 3,
     "solution": false,
     "task": false
    },
    "tags": []
   },
   "source": [
    "Enough talk- let's create a machine learning algorithm!\n",
    "\n",
    "Below we implement the $k$-nearest neighbors algorithm using Scikit-Learn, a machine learning package. \n",
    "\n",
    "**There might be a lot of terms here that you are unfamiliar with, like conditional distribution, preprocessing, EDA, etc- that's ok!** For this introductory homework, we don't expect you to know all these terms. **The entire algorithm is mostly implemented for you; all you need to do is edit a few lines of code to finish it. There will be clear instructions at each point where you need to edit the code to get it to work.**\n",
    "\n",
    "If you are interested in learning more about $k$-nearest neighbors, check out chapter 2.2.3 of ISL: https://www.statlearning.com/ or visit the <a href=https://the-examples-book.com/starter-guides/data-science/data-analysis/k-nearest-neighbors>Starter Guide page</a>."
   ]
  },
  {
   "cell_type": "markdown",
   "id": "fa3cce18-58d3-4de9-8dca-9349f0423448",
   "metadata": {
    "nbgrader": {
     "grade": false,
     "grade_id": "cell-c5196d65dd76ec96",
     "locked": true,
     "schema_version": 3,
     "solution": false,
     "task": false
    }
   },
   "source": [
    "### Package Imports"
   ]
  },
  {
   "cell_type": "code",
   "execution_count": null,
   "id": "e02dbf27-865c-4b66-ba20-544ebe3aac04",
   "metadata": {
    "nbgrader": {
     "grade": false,
     "grade_id": "cell-eb2dd79430b490af",
     "locked": true,
     "schema_version": 3,
     "solution": false,
     "task": false
    }
   },
   "outputs": [],
   "source": [
    "import pandas as pd\n",
    "import openpyxl\n",
    "import numpy as np\n",
    "from sklearn.neighbors import KNeighborsClassifier\n",
    "from sklearn import metrics\n",
    "import seaborn as sns\n",
    "import matplotlib.pyplot as plt\n",
    "import warnings\n",
    "import math\n",
    "from sklearn.model_selection import train_test_split\n",
    "\n",
    "warnings.filterwarnings('ignore') #ignore warnings that occur"
   ]
  },
  {
   "cell_type": "markdown",
   "id": "60d185d8-7c6b-4b3a-bbef-32ce2aeb8782",
   "metadata": {
    "nbgrader": {
     "grade": false,
     "grade_id": "cell-6bd44b61df237dc0",
     "locked": true,
     "schema_version": 3,
     "solution": false,
     "task": false
    }
   },
   "source": [
    "### A Brief Technical Overview"
   ]
  },
  {
   "cell_type": "markdown",
   "id": "8ee235ab-8f84-4de1-a588-145edddc856c",
   "metadata": {
    "nbgrader": {
     "grade": false,
     "grade_id": "cell-00d565aad973ef7b",
     "locked": true,
     "schema_version": 3,
     "solution": false,
     "task": false
    }
   },
   "source": [
    "While knn can be used for either regression or classification, we are going to demonstrate its uses for classification. \n",
    "\n",
    "One of the primary challenges of classification is that we don't know the conditional distribution of $Y$ given $X$ for our dataset. To deal with this, we attempt to *estimate* the conditional distribution of $Y$ given $X$, then classify any given individual observation using that estimated probability of what it *should* be. **knn can be used to estimate what the conditional distribution should be.**"
   ]
  },
  {
   "cell_type": "markdown",
   "id": "fe0c89f4-1ba5-479d-a78c-a6a4d5cf0e1b",
   "metadata": {
    "nbgrader": {
     "grade": false,
     "grade_id": "cell-41afea32181559d4",
     "locked": true,
     "schema_version": 3,
     "solution": false,
     "task": false
    }
   },
   "source": [
    "### Deep Dive Into The Algorithm"
   ]
  },
  {
   "cell_type": "markdown",
   "id": "11b0ffb5-21b1-4fef-bb90-7196c8423b4f",
   "metadata": {
    "nbgrader": {
     "grade": false,
     "grade_id": "cell-75dab6eb8cb51456",
     "locked": true,
     "schema_version": 3,
     "solution": false,
     "task": false
    }
   },
   "source": [
    "Given some positive integer $k$ and our data observation $x_0$, knn identifies the $k$ nearest points to $x_0$, represented by $n_0$.\n",
    "\n",
    "Then, we estimate the conditional probability of class $j$ as the fraction of points in $n_0$ whose response values equal $j$:\n",
    "\n",
    "$$ Pr(Y=j|X=x_0)=\\frac{1}{k}\\sum_{i\\in n_0}I(y_i=j) $$\n",
    "\n",
    "Finally, knn classifies the test observation we started with ($x_0$) to the class ($j$) with the largest probability from the above equation."
   ]
  },
  {
   "cell_type": "markdown",
   "id": "8d08d2f5-2480-4565-bed8-dd4082576203",
   "metadata": {
    "nbgrader": {
     "grade": false,
     "grade_id": "cell-bf4e84e7092eae82",
     "locked": true,
     "schema_version": 3,
     "solution": false,
     "task": false
    }
   },
   "source": [
    "### A Visual Example"
   ]
  },
  {
   "cell_type": "markdown",
   "id": "6f6cb767-1161-4d82-8f09-6b01474c7123",
   "metadata": {
    "nbgrader": {
     "grade": false,
     "grade_id": "cell-a059ea37d466f8d8",
     "locked": true,
     "schema_version": 3,
     "solution": false,
     "task": false
    }
   },
   "source": [
    "In the example below, we simulate 3 different $k$ values: 3, 5, and 11. We have 11 different data points plus our test point, and 2 labels (magenta and yellow). \n",
    "\n",
    "When $k$=3, the black dot (our $x_0$) would be classified as yellow, because the 3 nearest points are 2 yellow and 1 magenta; so the chance of it being yellow is 2/3, and magenta is 1/3. When $k$=5, our black dot would be classified as magenta, because magenta is higher than yellow with 3/5, vs 2/5. Finally, when we include all the points with $k$=11, our $x_0$ would be classified as yellow, because there is a 7/11 chance of yellow and 4/11 chance of magenta.\n",
    "\n",
    "We could theoretically take any integer $k$ values from 2 to 11. In practice, when $k$ is the same as the max amount of points, you are really just taking the average, and if you were going to do that in the first place you wouldn't need k-nearest neighbors to do it. *Often, detecting the right value of $k$ can be a challenge*."
   ]
  },
  {
   "cell_type": "markdown",
   "id": "7562b3f4-b72e-47d2-813b-1a242e9a4980",
   "metadata": {
    "nbgrader": {
     "grade": false,
     "grade_id": "cell-9d4fec1f2a7556be",
     "locked": true,
     "schema_version": 3,
     "solution": false,
     "task": false
    }
   },
   "source": [
    "<img src=\"images/knn.gif\" alt=\"knn gif\" />"
   ]
  },
  {
   "cell_type": "markdown",
   "id": "19e43dde-9035-4813-9840-cb1478eb3e37",
   "metadata": {
    "nbgrader": {
     "grade": false,
     "grade_id": "cell-32b338f2141c0482",
     "locked": true,
     "schema_version": 3,
     "solution": false,
     "task": false
    }
   },
   "source": [
    "### Our Data"
   ]
  },
  {
   "cell_type": "markdown",
   "id": "70092a1c-3793-4b4b-bb64-2c042f0f987a",
   "metadata": {
    "nbgrader": {
     "grade": false,
     "grade_id": "cell-fe1ce820e91df78f",
     "locked": true,
     "schema_version": 3,
     "solution": false,
     "task": false
    }
   },
   "source": [
    "We are working with an airline customer satisfaction dataset. The data comes from Kaggle: https://www.kaggle.com/datasets/johndddddd/customer-satisfaction"
   ]
  },
  {
   "cell_type": "markdown",
   "id": "6c7ae484-19b3-4be8-b17a-d14f63f39e09",
   "metadata": {
    "nbgrader": {
     "grade": false,
     "grade_id": "cell-a14c1acbe8db8a13",
     "locked": true,
     "schema_version": 3,
     "solution": false,
     "task": false
    }
   },
   "source": [
    "### Our Goal"
   ]
  },
  {
   "cell_type": "markdown",
   "id": "0509c265-9638-4e77-8fc4-6fa98fdc334c",
   "metadata": {
    "nbgrader": {
     "grade": false,
     "grade_id": "cell-2f8a4a4290806113",
     "locked": true,
     "schema_version": 3,
     "solution": false,
     "task": false
    }
   },
   "source": [
    "Classify observations by their level of satisfaction using knn. We want to know what variables really matter to customer satisfaction. For instance, is flight delay time the biggest indicator of overall customer satisfaction?"
   ]
  },
  {
   "cell_type": "markdown",
   "id": "cfd53e5b-5313-4a1a-80a4-67724d9f94fc",
   "metadata": {
    "nbgrader": {
     "grade": false,
     "grade_id": "cell-a70e6edf4b92767c",
     "locked": true,
     "schema_version": 3,
     "solution": false,
     "task": false
    }
   },
   "source": [
    "### EDA"
   ]
  },
  {
   "cell_type": "markdown",
   "id": "a89595fc-ff0a-490a-a91a-faefbe01b77f",
   "metadata": {
    "nbgrader": {
     "grade": false,
     "grade_id": "cell-4154b6f5d1b6fe5f",
     "locked": true,
     "schema_version": 3,
     "solution": false,
     "task": false
    }
   },
   "source": [
    "Below we take a quick look at the data. We drop rows with NA once we load it in."
   ]
  },
  {
   "cell_type": "code",
   "execution_count": null,
   "id": "615c971a-9515-4b46-a08c-8ca3a771e7cb",
   "metadata": {
    "nbgrader": {
     "grade": false,
     "grade_id": "cell-9c072fd8c59dcfcb",
     "locked": true,
     "schema_version": 3,
     "solution": false,
     "task": false
    }
   },
   "outputs": [],
   "source": [
    "df = pd.read_excel(\"data.xlsx\")\n",
    "df = df.dropna()"
   ]
  },
  {
   "cell_type": "code",
   "execution_count": null,
   "id": "c1a82c10-3250-4855-b43f-26917bfb719f",
   "metadata": {
    "nbgrader": {
     "grade": false,
     "grade_id": "cell-76f5899a59561f59",
     "locked": true,
     "schema_version": 3,
     "solution": false,
     "task": false
    }
   },
   "outputs": [],
   "source": [
    "df.head()"
   ]
  },
  {
   "cell_type": "code",
   "execution_count": null,
   "id": "182341e5-2f29-4dee-a989-993f020704da",
   "metadata": {
    "nbgrader": {
     "grade": false,
     "grade_id": "cell-979a457ae4e79e94",
     "locked": true,
     "schema_version": 3,
     "solution": false,
     "task": false
    }
   },
   "outputs": [],
   "source": [
    "df.info()"
   ]
  },
  {
   "cell_type": "code",
   "execution_count": null,
   "id": "a2fe4a6f-1f59-41f5-87b6-520ed0c7099c",
   "metadata": {
    "nbgrader": {
     "grade": false,
     "grade_id": "cell-14ebda409eca80b0",
     "locked": true,
     "schema_version": 3,
     "solution": false,
     "task": false
    }
   },
   "outputs": [],
   "source": [
    "df.describe()"
   ]
  },
  {
   "cell_type": "markdown",
   "id": "aba33d97-e912-4f53-a019-9c023e082912",
   "metadata": {
    "nbgrader": {
     "grade": false,
     "grade_id": "cell-569f4f8f0733b13a",
     "locked": true,
     "schema_version": 3,
     "solution": false,
     "task": false
    }
   },
   "source": [
    "`id` probably won't be relevant for us, and will get dropped. "
   ]
  },
  {
   "cell_type": "code",
   "execution_count": null,
   "id": "fe83d49d-d510-443d-bbe4-53b92bc9b7aa",
   "metadata": {
    "nbgrader": {
     "grade": false,
     "grade_id": "cell-99ef18988114fb1c",
     "locked": true,
     "schema_version": 3,
     "solution": false,
     "task": false
    }
   },
   "outputs": [],
   "source": [
    "df['satisfaction_v2'].unique()"
   ]
  },
  {
   "cell_type": "code",
   "execution_count": null,
   "id": "5f533dc7-13f3-426e-be91-a97038110f10",
   "metadata": {
    "nbgrader": {
     "grade": false,
     "grade_id": "cell-e9f4cf81b2275b98",
     "locked": true,
     "schema_version": 3,
     "solution": false,
     "task": false
    }
   },
   "outputs": [],
   "source": [
    "df['satisfaction_v2'].value_counts()"
   ]
  },
  {
   "cell_type": "markdown",
   "id": "45e9450e-f139-4f39-a5c8-5a67f6823d2d",
   "metadata": {
    "nbgrader": {
     "grade": false,
     "grade_id": "cell-3f784f44673074b4",
     "locked": true,
     "schema_version": 3,
     "solution": false,
     "task": false
    }
   },
   "source": [
    "`satisfaction_v2` is the satisfaction by the customer, a True or False essentially. In this case it's assumed that neutral is bad and bad is bad. It would've been nicer to see more discrete categories of satisfaction, but this is all the data we have to work with."
   ]
  },
  {
   "cell_type": "markdown",
   "id": "1f8f0086-2d14-40f2-b03a-64483a5aec67",
   "metadata": {
    "nbgrader": {
     "grade": false,
     "grade_id": "cell-0552d1dad2e92792",
     "locked": true,
     "schema_version": 3,
     "solution": false,
     "task": false
    }
   },
   "source": [
    "### Preprocessing"
   ]
  },
  {
   "cell_type": "markdown",
   "id": "3b153d06-5d12-4903-9c2c-0f16e6138b18",
   "metadata": {
    "nbgrader": {
     "grade": false,
     "grade_id": "cell-9aa15d4652a68c0c",
     "locked": true,
     "schema_version": 3,
     "solution": false,
     "task": false
    }
   },
   "source": [
    "Here we drop the `id` column, categorically convert the other non-int columns, make a new data frame, and then normalize. Finally, we make train/valid/test splits."
   ]
  },
  {
   "cell_type": "code",
   "execution_count": null,
   "id": "9b0c5b68-f746-44b9-a08a-8a57f6f36685",
   "metadata": {
    "nbgrader": {
     "grade": false,
     "grade_id": "cell-e495294d8838e64c",
     "locked": true,
     "schema_version": 3,
     "solution": false,
     "task": false
    }
   },
   "outputs": [],
   "source": [
    "columns_to_convert = ['satisfaction_v2','Gender','Customer Type','Type of Travel','Class']\n",
    "\n",
    "for column in columns_to_convert:\n",
    "    df[column] = df[column].astype('category')\n",
    "    df[column+\"_coded\"] = df[column].cat.codes\n",
    "\n",
    "old_df = df\n",
    "\n",
    "df = df.drop(columns=['id'])\n",
    "df = df.drop(columns=columns_to_convert)"
   ]
  },
  {
   "cell_type": "code",
   "execution_count": null,
   "id": "d94561a9-23a8-4e1b-8ab3-08169496687b",
   "metadata": {
    "nbgrader": {
     "grade": false,
     "grade_id": "cell-8dc16759c06f5dd8",
     "locked": true,
     "schema_version": 3,
     "solution": false,
     "task": false
    }
   },
   "outputs": [],
   "source": [
    "df.info()"
   ]
  },
  {
   "cell_type": "code",
   "execution_count": null,
   "id": "abfe4578-27fc-4bf1-b02c-52bcec4a2711",
   "metadata": {
    "nbgrader": {
     "grade": false,
     "grade_id": "cell-04c43f0755e6af03",
     "locked": true,
     "schema_version": 3,
     "solution": false,
     "task": false
    }
   },
   "outputs": [],
   "source": [
    "columns_to_norm = ['Age','Flight Distance','Departure Delay in Minutes','Arrival Delay in Minutes']\n",
    "\n",
    "for column in columns_to_norm:\n",
    "    df[column] = df[column]/np.max(df[column])"
   ]
  },
  {
   "cell_type": "markdown",
   "id": "5cdbfdb9-774e-4552-8bf7-fff0c4b3e56a",
   "metadata": {
    "nbgrader": {
     "grade": false,
     "grade_id": "cell-2bde08245920e4f3",
     "locked": true,
     "schema_version": 3,
     "solution": false,
     "task": false
    }
   },
   "source": [
    "#### Train Test Splits (1 point)"
   ]
  },
  {
   "cell_type": "markdown",
   "id": "368edeb0-d4e1-4071-8fca-36f5580c4104",
   "metadata": {
    "nbgrader": {
     "grade": false,
     "grade_id": "cell-670e850c6791b99a",
     "locked": true,
     "schema_version": 3,
     "solution": false,
     "task": false
    }
   },
   "source": [
    "Below we create the cross validation train test splits from our data. You can learn about train/test splits here: https://the-examples-book.com/starter-guides/data-science/data-modeling/resampling-methods/cross-validation/train-valid-test\n",
    "\n",
    "**Set test_size to be some value between 0.05 and 0.30 to create a test split that is 5-30% of our total dataset**. `test_size` gets used in the scikit-learn function `train_test_split` to automatically shuffle our data and create train test splits."
   ]
  },
  {
   "cell_type": "code",
   "execution_count": null,
   "id": "a5c2d5db-a38f-4b2a-93d9-93f3f41bd6ff",
   "metadata": {
    "nbgrader": {
     "grade": false,
     "grade_id": "test_size_answer",
     "locked": false,
     "schema_version": 3,
     "solution": true,
     "task": false
    }
   },
   "outputs": [],
   "source": [
    "test_size = ??"
   ]
  },
  {
   "cell_type": "code",
   "execution_count": null,
   "id": "9e082ef9-32c7-4a80-a961-5838063b8c0f",
   "metadata": {
    "nbgrader": {
     "grade": true,
     "grade_id": "test_size_check",
     "locked": true,
     "points": 1,
     "schema_version": 3,
     "solution": false,
     "task": false
    }
   },
   "outputs": [],
   "source": [
    "if test_size < 0.05 or test_size > 0.30:\n",
    "    raise AssertionError(\"The test_size is too big or too small.\")"
   ]
  },
  {
   "cell_type": "code",
   "execution_count": null,
   "id": "92ae52dd-d20b-4fbb-b2b5-621bfe696fd1",
   "metadata": {
    "nbgrader": {
     "grade": false,
     "grade_id": "cell-223229102718b2e5",
     "locked": true,
     "schema_version": 3,
     "solution": false,
     "task": false
    }
   },
   "outputs": [],
   "source": [
    "labels = df['satisfaction_v2_coded'] #create the labels \n",
    "data = df.drop(columns=['satisfaction_v2_coded']) #recreate the data\n",
    "train_x, test_x, train_y, test_y = train_test_split(data, labels, test_size=test_size, random_state=42)"
   ]
  },
  {
   "cell_type": "markdown",
   "id": "694dac77-11eb-42a8-95ad-3d56e9041893",
   "metadata": {
    "nbgrader": {
     "grade": false,
     "grade_id": "cell-18f0f6838c99c4f9",
     "locked": true,
     "schema_version": 3,
     "solution": false,
     "task": false
    }
   },
   "source": [
    "#### Setting the Max $k$ Value (1 point)"
   ]
  },
  {
   "cell_type": "markdown",
   "id": "0b982a2a-8fc2-43ee-8318-487e9d91a79f",
   "metadata": {
    "nbgrader": {
     "grade": false,
     "grade_id": "cell-ddf4030801b53dbc",
     "locked": true,
     "schema_version": 3,
     "solution": false,
     "task": false
    }
   },
   "source": [
    "Below we create a for loop to try out multiple different $k$ values. Here we set the maximum value of $k$. You will want to set your `max_k` value to not be more than 20; it might take a while if you go higher than that, and besides, you will see that this data (like most datasets) doesn't benefit from a $k$ value higher than 10. **Set `max_k` to be equal to an int between 1 and 21 of your choice.**"
   ]
  },
  {
   "cell_type": "code",
   "execution_count": null,
   "id": "b5f4556d-ba3e-4dd7-8ca3-03b66ac63bfd",
   "metadata": {
    "nbgrader": {
     "grade": false,
     "grade_id": "max_k_answer",
     "locked": false,
     "schema_version": 3,
     "solution": true,
     "task": false
    }
   },
   "outputs": [],
   "source": [
    "max_k = ??"
   ]
  },
  {
   "cell_type": "code",
   "execution_count": null,
   "id": "fbc047e1-5f3b-4696-8dae-e037538ab34c",
   "metadata": {
    "nbgrader": {
     "grade": true,
     "grade_id": "max_k_test",
     "locked": true,
     "points": 1,
     "schema_version": 3,
     "solution": false,
     "task": false
    }
   },
   "outputs": [],
   "source": [
    "if max_k > 20 or max_k < 2:\n",
    "    raise AssertionError(\"The max k value is larger than 20 or smaller than 2.\")"
   ]
  },
  {
   "cell_type": "markdown",
   "id": "5dbb40fb-f679-40f7-8c69-e2e72e46cdd6",
   "metadata": {
    "nbgrader": {
     "grade": false,
     "grade_id": "cell-7be00821f5183608",
     "locked": true,
     "schema_version": 3,
     "solution": false,
     "task": false
    }
   },
   "source": [
    "### Model Building"
   ]
  },
  {
   "cell_type": "markdown",
   "id": "33380d43-3368-42c7-bcaa-4d886aae02af",
   "metadata": {
    "nbgrader": {
     "grade": false,
     "grade_id": "cell-b74b05b4849141fd",
     "locked": true,
     "schema_version": 3,
     "solution": false,
     "task": false
    }
   },
   "source": [
    "We create a for loop to test out many different values of $k$. It creates the $k$-nearest neighbors classifier using the $k$ value, makes predictions, and gets the accuracy metric back on those predictions into the array. Finally, it saves the result of the metrics to results_df so we can plot them."
   ]
  },
  {
   "cell_type": "code",
   "execution_count": null,
   "id": "f10e3595-70f3-4d24-b856-6de17fd6ab5e",
   "metadata": {
    "nbgrader": {
     "grade": false,
     "grade_id": "cell-4216605e48894dd8",
     "locked": true,
     "schema_version": 3,
     "solution": false,
     "task": false
    }
   },
   "outputs": [],
   "source": [
    "k_values = []\n",
    "train_acc = []\n",
    "test_acc = []\n",
    "\n",
    "#for each possible k we can test from 2 to the max possible k value (including max_k)\n",
    "for k in range(2,max_k+1):\n",
    "#Train Model and Predict  \n",
    "    print(\"Now testing value of k:\",k)\n",
    "    neigh = KNeighborsClassifier(n_neighbors = k).fit(train_x,train_y)\n",
    "    yhat = neigh.predict(test_x)\n",
    "    k_values.append(k)\n",
    "    train_acc.append(metrics.accuracy_score(train_y, neigh.predict(train_x)))\n",
    "    test_acc.append(metrics.accuracy_score(test_y, yhat))\n",
    "\n",
    "#convert results to df\n",
    "results_data = {'k':k_values, 'Training Accuracy':train_acc, 'Test Accuracy':test_acc}\n",
    "results_df = pd.DataFrame(data=results_data)"
   ]
  },
  {
   "cell_type": "code",
   "execution_count": null,
   "id": "4801713d-3ceb-4af5-91cc-4e691cdfd921",
   "metadata": {
    "nbgrader": {
     "grade": false,
     "grade_id": "cell-ec3c1c3e580ab6da",
     "locked": true,
     "schema_version": 3,
     "solution": false,
     "task": false
    }
   },
   "outputs": [],
   "source": [
    "print(\"The k value with the highest accuracy betwen 2 and\", max_k,\"is\",np.argmax(test_acc)+2)"
   ]
  },
  {
   "cell_type": "code",
   "execution_count": null,
   "id": "7d4eba42-6883-43e1-a75b-4adf38204db2",
   "metadata": {
    "nbgrader": {
     "grade": false,
     "grade_id": "cell-311b926511025745",
     "locked": true,
     "schema_version": 3,
     "solution": false,
     "task": false
    }
   },
   "outputs": [],
   "source": [
    "# setting the dimensions\n",
    "fig, ax = plt.subplots(figsize=(30, 18))\n",
    " \n",
    "# drawing the plot\n",
    "sns.lineplot(results_df, x='k',y='Test Accuracy', ax=ax).set_title(\"Test Accuracy For Each k Value\")\n",
    "plt.show()"
   ]
  },
  {
   "cell_type": "markdown",
   "id": "ace3c8b1-9f9f-4942-8877-be84a5f5dfc3",
   "metadata": {
    "nbgrader": {
     "grade": false,
     "grade_id": "cell-e019afd340f32ba2",
     "locked": true,
     "schema_version": 3,
     "solution": false,
     "task": false
    }
   },
   "source": [
    "### Discussion"
   ]
  },
  {
   "cell_type": "markdown",
   "id": "b896e5a5-b4bb-424c-9c02-80c4ab761460",
   "metadata": {
    "nbgrader": {
     "grade": false,
     "grade_id": "cell-a62ea3189c332156",
     "locked": true,
     "schema_version": 3,
     "solution": false,
     "task": false
    }
   },
   "source": [
    "For most data, it is common that the ideal $k$ value is often somewhere between 5 and 10. There will often be an approximate arc like you see above, and the ideal $k$ will typically be an inflection point, after which the accuracy (or whatever other metric used) fares progressively worse."
   ]
  },
  {
   "cell_type": "markdown",
   "id": "fa9a1f5c-633b-41f4-bc3b-493f551f9e34",
   "metadata": {
    "nbgrader": {
     "grade": false,
     "grade_id": "cell-d7cf262b6bcf86fe",
     "locked": true,
     "schema_version": 3,
     "solution": false,
     "task": false
    }
   },
   "source": [
    "### Summary"
   ]
  },
  {
   "cell_type": "markdown",
   "id": "a06d04c7-7c54-448a-a986-f83c47bfa2eb",
   "metadata": {
    "nbgrader": {
     "grade": false,
     "grade_id": "cell-31ce1976eda24c14",
     "locked": true,
     "schema_version": 3,
     "solution": false,
     "task": false
    }
   },
   "source": [
    "k-nearest neighbors is a very simple algorithm to understand and implement. It can be used for both classification and regression, and its ease of use can make it a great starting point for many datasets."
   ]
  }
 ],
 "metadata": {
  "kernelspec": {
   "display_name": "primary_python_env",
   "language": "python",
   "name": "primary_python_env"
  },
  "language_info": {
   "codemirror_mode": {
    "name": "ipython",
    "version": 3
   },
   "file_extension": ".py",
   "mimetype": "text/x-python",
   "name": "python",
   "nbconvert_exporter": "python",
   "pygments_lexer": "ipython3",
   "version": "3.9.2"
  }
 },
 "nbformat": 4,
 "nbformat_minor": 5
}

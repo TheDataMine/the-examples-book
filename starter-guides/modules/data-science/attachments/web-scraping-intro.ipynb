{
 "cells": [
  {
   "cell_type": "markdown",
   "id": "26e5fcce-3380-4298-934e-891249d7c604",
   "metadata": {},
   "source": [
    "# Web Scraping Introduction"
   ]
  },
  {
   "cell_type": "markdown",
   "id": "edecfd0c-8b1f-4210-a7a7-f914b99b141a",
   "metadata": {},
   "source": [
    "Webscraping is the process of collecting data (information) from public websites that is then exported into an easier-to-read format.\n",
    "\n",
    "### What are websites are made of?\n",
    "\n",
    "We can think of it this way. In order to build a house, we must first understand what materials are used in the construction.  In the same way to gather the relevant data from websites, we must first learn the way that websites are built. \n",
    "\n",
    "Websites are created using HTML (Hypertext Markup Language), along with CSS (Cascading Style Sheets) and JavaScript. We are going to focus on the HTML. HTML, in a simple explanation, is the way that material is formatted/displayed over the internet. It allows creators to create and structure sections, paragraphs, and links with things like elements, tags, and attributes. \n",
    "\n",
    "- Tags: starting and ending parts of an HTML element\n",
    "- They will always begin and end with angle brackets (`<`, `>`)\n",
    "- Whatever is written inside the angle brackets is a tag. \n",
    "- Tags are like keywords with a distinctive meaning. \n",
    "- They also must be opened and closed in order to function. \n",
    "\n",
    "#### Example:\n",
    "    <a> _content_ </a>  \n",
    "#### Elements: the content in between the tag\n",
    "    <a> THIS IS THE ELEMENT </a> \n",
    "#### Attributes: used to definite the characteristics of the HTML element in detail\n",
    "    <a align=\"right\"> _content_ </a>\n",
    "\n",
    "When we are scraping, we need to find the tags that have the relevant information between them. \n",
    "\n",
    "### Tools to webscrape\n",
    "\n",
    "There are several structures used to webscrape, such as `requests`, `lxml`, and `beautifulsoup4`, but we will be focusing today on using `selenium`. This will let us create a script to webscrape multiple pages to create our dataframe. Through `selenium`, the script can interact, scrape, and parse through the browser. \n",
    "\n",
    "In getting started, we must choose a browser and it's web driver.\n",
    "\n",
    "* Firefox: GeckoDriver\n",
    "* Chrome: ChromeDriver\n",
    "* Safari: SafariDriver\n",
    "\n",
    "For this exercise, we will be using Firefox and Geckodriver.\n",
    "\n",
    "The recently upgraded version of Selenium is fairly easy to configure. At first all these options can seem overwhelming, but Selenium is a powerful package that has a learning curve to it. Below, we've implemented everything you'll need to do to get this webdriver started, but if you wanted to implement this in Chrome it might not have the same syntax. Be sure to check the documentation if you get stuck just getting a driver started."
   ]
  },
  {
   "cell_type": "code",
   "execution_count": null,
   "id": "8b6ec5f6-3847-42e6-a8c3-dabe5d4ab2a4",
   "metadata": {},
   "outputs": [],
   "source": [
    "from selenium.webdriver import Firefox\n",
    "from selenium.webdriver.firefox.service import Service\n",
    "from selenium.webdriver.firefox.options import Options\n",
    "import pandas as pd\n",
    "\n",
    "#declaring all of our options; see https://www.selenium.dev/documentation/webdriver/browsers/firefox/\n",
    "options=Options()\n",
    "\n",
    "#set the profile preference below if you need to specify a particular profile (with unique settings, such as cookie policy, etc)\n",
    "# options.set_preference('profile', profile_path)\n",
    "options.set_preference(\"dom.webdriver.enabled\", False)\n",
    "options.set_preference('useAutomationExtension', False)\n",
    "\n",
    "options.add_argument(\"-headless\") #headless means no gui\n",
    "options.add_argument(\"window-size=1920,1080\")\n",
    "options.add_argument(\"start-maximized\")\n",
    "options.add_argument(\"disable-infobars\")\n",
    "options.add_argument(\"--disable-extensions\")\n",
    "options.add_argument(\"--no-sandbox\")\n",
    "options.add_argument(\"--disable-dev-shm-usage\")\n",
    "options.add_argument('--disable-blink-features=AutomationControlled')\n",
    "\n",
    "service = Service()\n",
    "\n",
    "driver = Firefox(service=service, options=options)"
   ]
  },
  {
   "cell_type": "markdown",
   "id": "69ed500b-28f4-4c08-82f2-62f9184d713a",
   "metadata": {},
   "source": [
    "Next, we will take a look at the website https://www.goodreads.com/list/show/18645.Best_Books_That_Grow_You\n",
    "\n",
    "So that we can confirm that our scraping is working, highlight and right click the 1st book titled \"The Alchemist\", you should see a drop-down menu, go ahead and click `Inspect`. \n",
    "\n",
    "You will see that at the bottom of the webpage, there is a new box that shows you the HTML code that builds the website. \n",
    "\n",
    "Here is where we will find all the information that we are looking for.\n",
    "\n",
    "Does the output of the code below match any of the titles you see on the page? Does it seem like its scraping the page correctly?"
   ]
  },
  {
   "cell_type": "code",
   "execution_count": null,
   "id": "661caa15-a546-4c2c-aca2-f14a8e6c2346",
   "metadata": {},
   "outputs": [],
   "source": [
    "driver.get(\"https://www.goodreads.com/list/show/18645.Best_Books_That_Grow_You\")\n",
    "my_elements = driver.find_elements(\"xpath\", \"//a[@class='bookTitle']/span\")\n",
    "good_reads=[]\n",
    "# Created a for loop that allows for us to keep adding more data to the end of the list\n",
    "for element in my_elements:\n",
    "    good_reads.append(element.text)\n",
    "# Prints out the list that we just created\n",
    "print(good_reads)"
   ]
  },
  {
   "cell_type": "code",
   "execution_count": null,
   "id": "3b0b0f00-d13d-40a5-8f63-26fb415d37e6",
   "metadata": {},
   "outputs": [],
   "source": [
    "good_reads_2=[]\n",
    "good_reads_2_authors=[]\n",
    "for page in range(1,12,1):\n",
    "    page_url = \"https://www.goodreads.com/list/show/18645.Best_Books_That_Grow_You\"\n",
    "    driver.get(page_url)\n",
    "    my_elements = driver.find_elements(\"xpath\", \"//a[@class='bookTitle']/span\")\n",
    "    my_authors = driver.find_elements(\"xpath\", \"//a[@class='authorName']/span\")\n",
    "    for element in my_elements:\n",
    "        good_reads_2.append(element.text)\n",
    "    for author in my_authors:\n",
    "        good_reads_2_authors.append(author.text)"
   ]
  },
  {
   "cell_type": "markdown",
   "id": "dfa1c376-6af5-49e0-ac9b-6484a00061b8",
   "metadata": {},
   "source": [
    "This code above will scrape multiple pages for the book titles and names.\n",
    "\n",
    "Now that we have all of the data, we want to take it and create a CSV file so that it is easy to look at, read, and analyze. \n",
    "\n",
    "The first step to that is to take all of our data and create a neat dataframe."
   ]
  },
  {
   "cell_type": "code",
   "execution_count": null,
   "id": "decf5770-41be-4199-9da2-7986e84c56d7",
   "metadata": {},
   "outputs": [],
   "source": [
    "dict = {'Title': good_reads_2, 'Authors': good_reads_2_authors}\n",
    "GoodReads2022 = pd.DataFrame(dict)"
   ]
  },
  {
   "cell_type": "markdown",
   "id": "7a00ffbb-6feb-41d7-b5bb-3ce99fe47d90",
   "metadata": {},
   "source": [
    "Once we have created the dataframe, we just need to export it into a `csv` file."
   ]
  },
  {
   "cell_type": "code",
   "execution_count": null,
   "id": "2487a8e2-7886-4cf3-9799-b62074d469fa",
   "metadata": {},
   "outputs": [],
   "source": [
    "GoodReads2022.to_csv('GoodReads2022.csv')"
   ]
  },
  {
   "cell_type": "markdown",
   "id": "c9ae7ae1-bcf2-4cf5-b773-b0a427098321",
   "metadata": {},
   "source": [
    "# You just successfully scraped GoodReads, and outputted the results to a csv file! Congrats!"
   ]
  }
 ],
 "metadata": {
  "kernelspec": {
   "display_name": "seminar",
   "language": "python",
   "name": "f2022-s2023"
  },
  "language_info": {
   "codemirror_mode": {
    "name": "ipython",
    "version": 3
   },
   "file_extension": ".py",
   "mimetype": "text/x-python",
   "name": "python",
   "nbconvert_exporter": "python",
   "pygments_lexer": "ipython3",
   "version": "3.10.9"
  }
 },
 "nbformat": 4,
 "nbformat_minor": 5
}
